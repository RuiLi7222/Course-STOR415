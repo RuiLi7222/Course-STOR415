{
 "cells": [
  {
   "cell_type": "code",
   "execution_count": 1,
   "metadata": {},
   "outputs": [],
   "source": [
    "import pandas as pd\n",
    "from IPython.display import display\n",
    "from tabulate import tabulate\n",
    "# tabulate allows to print data frames in Jupyter markdown format:\n",
    "# print(tabulate(gt_from2dim(dist,['sites','mills','val']), tablefmt=\"pipe\", headers=\"keys\"))"
   ]
  },
  {
   "cell_type": "markdown",
   "metadata": {},
   "source": [
    "# gt_from2dim\n",
    "This transforms a data frame like this\n",
    "\n",
    "|  Index  |   Mill A |   Mill B |   Mill C |\n",
    "|---:|---------:|---------:|---------:|\n",
    "|  1 |        8 |       15 |       50 |\n",
    "|  2 |       10 |       17 |       20 |\n",
    "|  3 |       30 |       26 |       15 |\n",
    "\n",
    "into the data frame with GAMS readable format\n",
    "\n",
    "| Index   |   level_0 | level_1   |   0 |\n",
    "|---:|----------:|:----------|----:|\n",
    "|  0 |         1 | Mill A    |   8 |\n",
    "|  1 |         1 | Mill B    |  15 |\n",
    "|  2 |         1 | Mill C    |  50 |\n",
    "|  3 |         2 | Mill A    |  10 |\n",
    "|  4 |         2 | Mill B    |  17 |\n",
    "|  5 |         2 | Mill C    |  20 |\n",
    "|  6 |         3 | Mill A    |  30 |\n",
    "|  7 |         3 | Mill B    |  26 |\n",
    "|  8 |         3 | Mill C    |  15 |\n",
    "\n",
    "call: gt_from2dim(df)\n",
    "\n",
    "With the additional argument the default columns names can be renamed:\n",
    "\n",
    "| Index   |   sites | mills   |   val |\n",
    "|---:|--------:|:--------|------:|\n",
    "|  0 |       1 | Mill A  |     8 |\n",
    "|  1 |       1 | Mill B  |    15 |\n",
    "|  2 |       1 | Mill C  |    50 |\n",
    "|  3 |       2 | Mill A  |    10 |\n",
    "|  4 |       2 | Mill B  |    17 |\n",
    "|  5 |       2 | Mill C  |    20 |\n",
    "|  6 |       3 | Mill A  |    30 |\n",
    "|  7 |       3 | Mill B  |    26 |\n",
    "|  8 |       3 | Mill C  |    15 |\n",
    "\n",
    "call: gt_from2dim(df,['sites','mills','val'])\n"
   ]
  },
  {
   "cell_type": "code",
   "execution_count": 2,
   "metadata": {},
   "outputs": [],
   "source": [
    "def gt_from2dim(df, column_names=None):\n",
    "    if column_names==None:\n",
    "        return pd.DataFrame(df.stack()).reset_index()\n",
    "    else:\n",
    "        df = pd.DataFrame(df.stack()).reset_index()\n",
    "        return df.rename(columns=dict(zip(df.columns, column_names)))\n"
   ]
  },
  {
   "cell_type": "markdown",
   "metadata": {},
   "source": [
    "# gt_pivot\n",
    "This transforms a GAMS compatible data frame into a more readable form. It takes a data frame like this\n",
    "\n",
    "| Index   |   sites | mills   |   val |\n",
    "|---:|--------:|:--------|------:|\n",
    "|  0 |       1 | Mill A  |     8 |\n",
    "|  1 |       1 | Mill B  |    15 |\n",
    "|  2 |       1 | Mill C  |    50 |\n",
    "|  3 |       2 | Mill A  |    10 |\n",
    "|  4 |       2 | Mill B  |    17 |\n",
    "|  5 |       2 | Mill C  |    20 |\n",
    "|  6 |       3 | Mill A  |    30 |\n",
    "|  7 |       3 | Mill B  |    26 |\n",
    "|  8 |       3 | Mill C  |    15 |\n",
    "\n",
    "and transforms it into something like this\n",
    "\n",
    "| Index   |   Mill A |   Mill B |   Mill C |\n",
    "|---:|---------:|---------:|---------:|\n",
    "|  1 |        8 |       15 |       50 |\n",
    "|  2 |       10 |       17 |       20 |\n",
    "|  3 |       30 |       26 |       15 |\n",
    "\n",
    "call: gt_pivot(df,index='sites',columns='mills',values='val')"
   ]
  },
  {
   "cell_type": "code",
   "execution_count": 3,
   "metadata": {},
   "outputs": [],
   "source": [
    "def gt_pivot(df, index=None, columns=None, values=None):\n",
    "    df = df.pivot(index=index, columns=columns, values=values)\n",
    "    df.index.names = [None]\n",
    "    df.columns.names = [None]\n",
    "    return df"
   ]
  },
  {
   "cell_type": "markdown",
   "metadata": {},
   "source": [
    "# gt_pivot2d\n",
    "gt_pivot2d build on top of gt_pivot and uses the first three columns as the index, column and values:\n",
    "\n",
    "| Index   |   sites | mills   |   level |       marginal |   lower |   upper |   scale |\n",
    "|---:|--------:|:--------|--------:|---------------:|--------:|--------:|--------:|\n",
    "|  0 |       1 | Mill A  |       0 |   4.94066e-324 |       0 |     inf |       1 |\n",
    "|  1 |       1 | Mill B  |      20 |   0            |       0 |     inf |       1 |\n",
    "|  2 |       1 | Mill C  |       0 | 184            |       0 |     inf |       1 |\n",
    "|  3 |       2 | Mill A  |      30 |   0            |       0 |     inf |       1 |\n",
    "|  4 |       2 | Mill B  |       0 |   0            |       0 |     inf |       1 |\n",
    "|  5 |       2 | Mill C  |       0 |  56            |       0 |     inf |       1 |\n",
    "|  6 |       3 | Mill A  |       0 |  44            |       0 |     inf |       1 |\n",
    "|  7 |       3 | Mill B  |      15 |   0            |       0 |     inf |       1 |\n",
    "|  8 |       3 | Mill C  |      30 |   0            |       0 |     inf |       1 |\n",
    "\n",
    "and transforms it into something like this\n",
    "\n",
    "| Index   |   Mill A |   Mill B |   Mill C |\n",
    "|---:|---------:|---------:|---------:|\n",
    "|  1 |        0 |       20 |        0 |\n",
    "|  2 |       30 |        0 |        0 |\n",
    "|  3 |        0 |       15 |       30 |\n",
    "\n",
    "call: gt_pivot2d(df)"
   ]
  },
  {
   "cell_type": "code",
   "execution_count": 4,
   "metadata": {},
   "outputs": [],
   "source": [
    "def gt_pivot2d(df):\n",
    "    return gt_pivot(df,index=df.columns[0], columns=df.columns[1], values=df.columns[2])"
   ]
  },
  {
   "cell_type": "code",
   "execution_count": 5,
   "metadata": {},
   "outputs": [],
   "source": [
    "sites = ['1', '2', '3']\n",
    "mills = ['Mill A','Mill B', 'Mill C']\n",
    "dist = pd.DataFrame(index=sites, columns=mills, data = [[8, 15, 50], [10, 17, 20], [30, 26, 15]])"
   ]
  },
  {
   "cell_type": "code",
   "execution_count": 6,
   "metadata": {},
   "outputs": [
    {
     "data": {
      "text/html": [
       "<div>\n",
       "<style scoped>\n",
       "    .dataframe tbody tr th:only-of-type {\n",
       "        vertical-align: middle;\n",
       "    }\n",
       "\n",
       "    .dataframe tbody tr th {\n",
       "        vertical-align: top;\n",
       "    }\n",
       "\n",
       "    .dataframe thead th {\n",
       "        text-align: right;\n",
       "    }\n",
       "</style>\n",
       "<table border=\"1\" class=\"dataframe\">\n",
       "  <thead>\n",
       "    <tr style=\"text-align: right;\">\n",
       "      <th></th>\n",
       "      <th>Mill A</th>\n",
       "      <th>Mill B</th>\n",
       "      <th>Mill C</th>\n",
       "    </tr>\n",
       "  </thead>\n",
       "  <tbody>\n",
       "    <tr>\n",
       "      <td>1</td>\n",
       "      <td>8</td>\n",
       "      <td>15</td>\n",
       "      <td>50</td>\n",
       "    </tr>\n",
       "    <tr>\n",
       "      <td>2</td>\n",
       "      <td>10</td>\n",
       "      <td>17</td>\n",
       "      <td>20</td>\n",
       "    </tr>\n",
       "    <tr>\n",
       "      <td>3</td>\n",
       "      <td>30</td>\n",
       "      <td>26</td>\n",
       "      <td>15</td>\n",
       "    </tr>\n",
       "  </tbody>\n",
       "</table>\n",
       "</div>"
      ],
      "text/plain": [
       "   Mill A  Mill B  Mill C\n",
       "1       8      15      50\n",
       "2      10      17      20\n",
       "3      30      26      15"
      ]
     },
     "metadata": {},
     "output_type": "display_data"
    },
    {
     "data": {
      "text/html": [
       "<div>\n",
       "<style scoped>\n",
       "    .dataframe tbody tr th:only-of-type {\n",
       "        vertical-align: middle;\n",
       "    }\n",
       "\n",
       "    .dataframe tbody tr th {\n",
       "        vertical-align: top;\n",
       "    }\n",
       "\n",
       "    .dataframe thead th {\n",
       "        text-align: right;\n",
       "    }\n",
       "</style>\n",
       "<table border=\"1\" class=\"dataframe\">\n",
       "  <thead>\n",
       "    <tr style=\"text-align: right;\">\n",
       "      <th></th>\n",
       "      <th>Mill A</th>\n",
       "      <th>Mill B</th>\n",
       "      <th>Mill C</th>\n",
       "    </tr>\n",
       "  </thead>\n",
       "  <tbody>\n",
       "    <tr>\n",
       "      <td>1</td>\n",
       "      <td>8</td>\n",
       "      <td>15</td>\n",
       "      <td>50</td>\n",
       "    </tr>\n",
       "    <tr>\n",
       "      <td>2</td>\n",
       "      <td>10</td>\n",
       "      <td>17</td>\n",
       "      <td>20</td>\n",
       "    </tr>\n",
       "    <tr>\n",
       "      <td>3</td>\n",
       "      <td>30</td>\n",
       "      <td>26</td>\n",
       "      <td>15</td>\n",
       "    </tr>\n",
       "  </tbody>\n",
       "</table>\n",
       "</div>"
      ],
      "text/plain": [
       "   Mill A  Mill B  Mill C\n",
       "1       8      15      50\n",
       "2      10      17      20\n",
       "3      30      26      15"
      ]
     },
     "metadata": {},
     "output_type": "display_data"
    }
   ],
   "source": [
    "display(dist)\n",
    "#display(gt_from2dim(dist,column_names=['sites','mills','val']))\n",
    "#display(gt_pivot(gt_from2dim(dist,['sites','mills','val']),index='sites',columns='mills',values='val'))\n",
    "display(gt_pivot2d(gt_from2dim(dist)))"
   ]
  }
 ],
 "metadata": {
  "celltoolbar": "Raw Cell Format",
  "kernelspec": {
   "display_name": "Python 3",
   "language": "python",
   "name": "python3"
  },
  "language_info": {
   "codemirror_mode": {
    "name": "ipython",
    "version": 3
   },
   "file_extension": ".py",
   "mimetype": "text/x-python",
   "name": "python",
   "nbconvert_exporter": "python",
   "pygments_lexer": "ipython3",
   "version": "3.6.9"
  }
 },
 "nbformat": 4,
 "nbformat_minor": 2
}
