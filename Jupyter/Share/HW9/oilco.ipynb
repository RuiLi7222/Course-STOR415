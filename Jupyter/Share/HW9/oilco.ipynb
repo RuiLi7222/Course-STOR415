{
 "cells": [
  {
   "cell_type": "markdown",
   "metadata": {},
   "source": [
    "HW9, Q3."
   ]
  },
  {
   "cell_type": "code",
   "execution_count": 2,
   "metadata": {},
   "outputs": [],
   "source": [
    "%load_ext gams_magic"
   ]
  },
  {
   "cell_type": "code",
   "execution_count": 3,
   "metadata": {},
   "outputs": [
    {
     "data": {
      "text/html": [
       "<div>\n",
       "<style scoped>\n",
       "    .dataframe tbody tr th:only-of-type {\n",
       "        vertical-align: middle;\n",
       "    }\n",
       "\n",
       "    .dataframe tbody tr th {\n",
       "        vertical-align: top;\n",
       "    }\n",
       "\n",
       "    .dataframe thead th {\n",
       "        text-align: right;\n",
       "    }\n",
       "</style>\n",
       "<table border=\"1\" class=\"dataframe\">\n",
       "  <thead>\n",
       "    <tr style=\"text-align: right;\">\n",
       "      <th></th>\n",
       "      <th>Solver Status</th>\n",
       "      <th>Model Status</th>\n",
       "      <th>Objective</th>\n",
       "      <th>#equ</th>\n",
       "      <th>#var</th>\n",
       "      <th>Model Type</th>\n",
       "      <th>Solver</th>\n",
       "      <th>Solver Time</th>\n",
       "    </tr>\n",
       "  </thead>\n",
       "  <tbody>\n",
       "    <tr>\n",
       "      <th>0</th>\n",
       "      <td>Normal (1)</td>\n",
       "      <td>Optimal Global (1)</td>\n",
       "      <td>10470.0</td>\n",
       "      <td>8</td>\n",
       "      <td>11</td>\n",
       "      <td>LP</td>\n",
       "      <td>CPLEX</td>\n",
       "      <td>0.002</td>\n",
       "    </tr>\n",
       "  </tbody>\n",
       "</table>\n",
       "</div>"
      ],
      "text/plain": [
       "  Solver Status        Model Status  Objective #equ #var Model Type Solver  \\\n",
       "0    Normal (1)  Optimal Global (1)    10470.0    8   11         LP  CPLEX   \n",
       "\n",
       "  Solver Time  \n",
       "0       0.002  "
      ]
     },
     "execution_count": 3,
     "metadata": {},
     "output_type": "execute_result"
    }
   ],
   "source": [
    "%%gams\n",
    "\n",
    "# Oilco MCNFP\n",
    "\n",
    "set node /SanDiego, LA, Dallas, Houston, Chicago, NewYork, Dummy/;\n",
    "\n",
    "alias (node,j);\n",
    "\n",
    "set arc(node,node) /(SanDiego,LA).(Dallas,Houston,Dummy), (Dallas,Houston).(Chicago,NewYork)/;\n",
    "\n",
    "parameter\n",
    "         cost(node, node) /\n",
    "         SanDiego.Dallas    1120\n",
    "         SanDiego.Houston   1000\n",
    "         SanDiego.Dummy       0\n",
    "         LA.Dallas          1000\n",
    "         LA.Houston         1010\n",
    "         LA.Dummy             0\n",
    "         Dallas.Chicago     550\n",
    "         Dallas.NewYork     450\n",
    "         Houston.Chicago    530\n",
    "         Houston.NewYork    470 /;\n",
    "\n",
    "# the cost from SanDiego to Dallas is the sum of transportation cost and the refinary cost at Dallas\n",
    "# similarly for LA.Dallas, SanDiego.Houston, LA.Houston\n",
    "\n",
    "parameters\n",
    "supply(node) Supply in 100000s /SanDiego 5, LA 4, Chicago -4, NewYork -3, Dummy -2/;\n",
    "\n",
    "variable totalcost, x(node,node);\n",
    "\n",
    "positive variable x;\n",
    "\n",
    "equations\n",
    "obj, balance(node);\n",
    "\n",
    "obj..\n",
    "totalcost =e= sum(arc, cost(arc)*x(arc));\n",
    "\n",
    "balance(node)..\n",
    "sum(j$arc(node,j), x(node,j)) - sum(j$arc(j,node), x(j,node)) =e= supply(node);\n",
    "\n",
    "Model MCNFP /all/;\n",
    "\n",
    "Solve MCNFP using lp minimizing totalcost;\n"
   ]
  },
  {
   "cell_type": "code",
   "execution_count": 4,
   "metadata": {},
   "outputs": [
    {
     "name": "stdout",
     "output_type": "stream",
     "text": [
      "E x e c u t i o n\n",
      "\n",
      "\n",
      "----     50 VARIABLE x.L  \n",
      "\n",
      "              Dallas     Houston     Chicago     NewYork       Dummy\n",
      "\n",
      "SanDiego                   4.000                               1.000\n",
      "LA             3.000                                           1.000\n",
      "Dallas                                             3.000\n",
      "Houston                                4.000\n",
      "\n",
      "\n",
      "----     50 VARIABLE totalcost.L           =    10470.000  \n",
      "\n",
      "\n",
      "\n"
     ]
    }
   ],
   "source": [
    "%gams display x.l, totalcost.l; \n",
    "%gams_lst -e"
   ]
  },
  {
   "cell_type": "code",
   "execution_count": 5,
   "metadata": {},
   "outputs": [
    {
     "name": "stdout",
     "output_type": "stream",
     "text": [
      "E x e c u t i o n\n",
      "\n",
      "\n",
      "----     51 VARIABLE x.L  \n",
      "\n",
      "              Dallas     Houston     Chicago     NewYork       Dummy\n",
      "\n",
      "SanDiego                   4.000                               1.000\n",
      "LA             3.000                                           1.000\n",
      "Dallas                                             3.000\n",
      "Houston                                4.000\n",
      "\n",
      "\n",
      "----     51 VARIABLE totalcost.L           =    10470.000  \n",
      "\n",
      "\n",
      "\n"
     ]
    }
   ],
   "source": [
    "%gams display x.l, totalcost.l; \n",
    "%gams_lst -e"
   ]
  }
 ],
 "metadata": {
  "kernelspec": {
   "display_name": "Python 3",
   "language": "python",
   "name": "python3"
  },
  "language_info": {
   "codemirror_mode": {
    "name": "ipython",
    "version": 3
   },
   "file_extension": ".py",
   "mimetype": "text/x-python",
   "name": "python",
   "nbconvert_exporter": "python",
   "pygments_lexer": "ipython3",
   "version": "3.6.6"
  }
 },
 "nbformat": 4,
 "nbformat_minor": 2
}
