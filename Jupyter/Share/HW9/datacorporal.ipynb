{
 "cells": [
  {
   "cell_type": "markdown",
   "metadata": {},
   "source": [
    "HW9, Q2."
   ]
  },
  {
   "cell_type": "code",
   "execution_count": 2,
   "metadata": {},
   "outputs": [],
   "source": [
    "%load_ext gams_magic"
   ]
  },
  {
   "cell_type": "code",
   "execution_count": 3,
   "metadata": {},
   "outputs": [
    {
     "data": {
      "text/html": [
       "<div>\n",
       "<style scoped>\n",
       "    .dataframe tbody tr th:only-of-type {\n",
       "        vertical-align: middle;\n",
       "    }\n",
       "\n",
       "    .dataframe tbody tr th {\n",
       "        vertical-align: top;\n",
       "    }\n",
       "\n",
       "    .dataframe thead th {\n",
       "        text-align: right;\n",
       "    }\n",
       "</style>\n",
       "<table border=\"1\" class=\"dataframe\">\n",
       "  <thead>\n",
       "    <tr style=\"text-align: right;\">\n",
       "      <th></th>\n",
       "      <th>Solver Status</th>\n",
       "      <th>Model Status</th>\n",
       "      <th>Objective</th>\n",
       "      <th>#equ</th>\n",
       "      <th>#var</th>\n",
       "      <th>Model Type</th>\n",
       "      <th>Solver</th>\n",
       "      <th>Solver Time</th>\n",
       "    </tr>\n",
       "  </thead>\n",
       "  <tbody>\n",
       "    <tr>\n",
       "      <th>0</th>\n",
       "      <td>Normal (1)</td>\n",
       "      <td>Optimal Global (1)</td>\n",
       "      <td>118000.0</td>\n",
       "      <td>6</td>\n",
       "      <td>9</td>\n",
       "      <td>LP</td>\n",
       "      <td>CPLEX</td>\n",
       "      <td>0.002</td>\n",
       "    </tr>\n",
       "  </tbody>\n",
       "</table>\n",
       "</div>"
      ],
      "text/plain": [
       "  Solver Status        Model Status  Objective #equ #var Model Type Solver  \\\n",
       "0    Normal (1)  Optimal Global (1)   118000.0    6    9         LP  CPLEX   \n",
       "\n",
       "  Solver Time  \n",
       "0       0.002  "
      ]
     },
     "execution_count": 3,
     "metadata": {},
     "output_type": "execute_result"
    }
   ],
   "source": [
    "%%gams\n",
    "\n",
    "#Data Corporal problem (modeled as an MCNFP)\n",
    "# With the restrition that flow on each arc is bounded by 200\n",
    "\n",
    "set N/B,R,C,A,L/;\n",
    "\n",
    "scalar uplimit /200/;\n",
    "\n",
    "parameter s(N) /B 400, R 300, C 0, A -300, L -400/;\n",
    "* node B:boston R:raleigh C: chicargo A:austin L: los angeles\n",
    "\n",
    "parameters\n",
    "c(N,N)/\n",
    "B.C 80\n",
    "B.A 220\n",
    "B.L 280\n",
    "R.C 100\n",
    "R.A 140\n",
    "R.L 170\n",
    "C.A 40\n",
    "C.L 50/;\n",
    "\n",
    "alias (N,j);\n",
    "\n",
    "set A(N,N)\n",
    "/B.C\n",
    "B.A\n",
    "B.L\n",
    "R.C\n",
    "R.A\n",
    "R.L\n",
    "C.A\n",
    "C.L/;\n",
    "\n",
    "variable totalcost, x(N,N);\n",
    "positive variable x;\n",
    "\n",
    "equations balance(N), obj;\n",
    "\n",
    "balance(N)..\n",
    "        sum(j$A(N,j), x(N,j)) - sum(j$A(j,N), x(j,N)) =e= S(N);\n",
    "\n",
    "obj..\n",
    "        totalcost =e= sum(A, c(A)*x(A));\n",
    "\n",
    "x.up(A) = uplimit;\n",
    "\n",
    "model datacorporal/all/;\n",
    "solve datacorporal using lp minimizing totalcost;\n",
    "\n",
    "\n",
    "\n"
   ]
  },
  {
   "cell_type": "code",
   "execution_count": 8,
   "metadata": {},
   "outputs": [
    {
     "name": "stdout",
     "output_type": "stream",
     "text": [
      "E x e c u t i o n\n",
      "\n",
      "\n",
      "----     53 VARIABLE x.L  \n",
      "\n",
      "            0           C           A           L\n",
      "\n",
      "0                 100.000\n",
      "B     100.000                 200.000     100.000\n",
      "R                             100.000     200.000\n",
      "C                                         100.000\n",
      "\n",
      "\n",
      "----     53 VARIABLE totalcost.L           =   133000.000  \n",
      "\n",
      "\n",
      "\n"
     ]
    }
   ],
   "source": [
    "%gams display x.l, totalcost.l; \n",
    "%gams_lst -e"
   ]
  },
  {
   "cell_type": "code",
   "execution_count": 6,
   "metadata": {},
   "outputs": [],
   "source": [
    "%gams_reset"
   ]
  },
  {
   "cell_type": "code",
   "execution_count": 7,
   "metadata": {},
   "outputs": [
    {
     "data": {
      "text/html": [
       "<div>\n",
       "<style scoped>\n",
       "    .dataframe tbody tr th:only-of-type {\n",
       "        vertical-align: middle;\n",
       "    }\n",
       "\n",
       "    .dataframe tbody tr th {\n",
       "        vertical-align: top;\n",
       "    }\n",
       "\n",
       "    .dataframe thead th {\n",
       "        text-align: right;\n",
       "    }\n",
       "</style>\n",
       "<table border=\"1\" class=\"dataframe\">\n",
       "  <thead>\n",
       "    <tr style=\"text-align: right;\">\n",
       "      <th></th>\n",
       "      <th>Solver Status</th>\n",
       "      <th>Model Status</th>\n",
       "      <th>Objective</th>\n",
       "      <th>#equ</th>\n",
       "      <th>#var</th>\n",
       "      <th>Model Type</th>\n",
       "      <th>Solver</th>\n",
       "      <th>Solver Time</th>\n",
       "    </tr>\n",
       "  </thead>\n",
       "  <tbody>\n",
       "    <tr>\n",
       "      <th>0</th>\n",
       "      <td>Normal (1)</td>\n",
       "      <td>Optimal Global (1)</td>\n",
       "      <td>133000.0</td>\n",
       "      <td>7</td>\n",
       "      <td>10</td>\n",
       "      <td>LP</td>\n",
       "      <td>CPLEX</td>\n",
       "      <td>0.003</td>\n",
       "    </tr>\n",
       "  </tbody>\n",
       "</table>\n",
       "</div>"
      ],
      "text/plain": [
       "  Solver Status        Model Status  Objective #equ #var Model Type Solver  \\\n",
       "0    Normal (1)  Optimal Global (1)   133000.0    7   10         LP  CPLEX   \n",
       "\n",
       "  Solver Time  \n",
       "0       0.003  "
      ]
     },
     "execution_count": 7,
     "metadata": {},
     "output_type": "execute_result"
    }
   ],
   "source": [
    "%%gams \n",
    "\n",
    "set node/0,B,R,C,A,L/;\n",
    "\n",
    "scalar uplimit /200/;\n",
    "\n",
    "parameter supply(node) /0 0, B 400, R 300, C 0, A -300, L -400/;\n",
    "# node B:boston R:raleigh C: chicago A:austin L: los angeles\n",
    "# node 0:a dummy node\n",
    "\n",
    "parameters\n",
    "cost(node, node)/\n",
    "B.A 220\n",
    "B.L 280\n",
    "R.A 140\n",
    "R.L 170\n",
    "C.A 40\n",
    "C.L 50\n",
    "B.0 80\n",
    "R.0 100\n",
    "0.C 0/;\n",
    "\n",
    "alias (node,i,j,k);\n",
    "\n",
    "set arc(node, node)/\n",
    "B.A\n",
    "B.L\n",
    "R.A\n",
    "R.L\n",
    "C.A\n",
    "C.L\n",
    "B.0\n",
    "R.0\n",
    "0.C/;\n",
    "\n",
    "variable totalcost;\n",
    "positive variables x(node, node);\n",
    "\n",
    "equations balance(node), obj;\n",
    "\n",
    "balance(k)..\n",
    "sum(i$arc(k,i), x(k,i)) - sum(j$arc(j,k), x(j,k)) =e= supply(k);\n",
    "\n",
    "obj..\n",
    "totalcost =e= sum(arc, cost(arc)*x(arc));\n",
    "\n",
    "x.up(arc) = uplimit;\n",
    "x.up('0','c')=100;\n",
    "\n",
    "model datacorporal/all/;\n",
    "solve datacorporal using lp minimizing totalcost;\n"
   ]
  },
  {
   "cell_type": "code",
   "execution_count": 9,
   "metadata": {},
   "outputs": [
    {
     "name": "stdout",
     "output_type": "stream",
     "text": [
      "E x e c u t i o n\n",
      "\n",
      "\n",
      "----     54 VARIABLE x.L  \n",
      "\n",
      "            0           C           A           L\n",
      "\n",
      "0                 100.000\n",
      "B     100.000                 200.000     100.000\n",
      "R                             100.000     200.000\n",
      "C                                         100.000\n",
      "\n",
      "\n",
      "----     54 VARIABLE totalcost.L           =   133000.000  \n",
      "\n",
      "\n",
      "\n"
     ]
    }
   ],
   "source": [
    "%gams display x.l, totalcost.l; \n",
    "%gams_lst -e"
   ]
  }
 ],
 "metadata": {
  "kernelspec": {
   "display_name": "Python 3",
   "language": "python",
   "name": "python3"
  },
  "language_info": {
   "codemirror_mode": {
    "name": "ipython",
    "version": 3
   },
   "file_extension": ".py",
   "mimetype": "text/x-python",
   "name": "python",
   "nbconvert_exporter": "python",
   "pygments_lexer": "ipython3",
   "version": "3.6.6"
  }
 },
 "nbformat": 4,
 "nbformat_minor": 2
}
