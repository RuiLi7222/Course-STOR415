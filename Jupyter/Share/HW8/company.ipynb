{
 "cells": [
  {
   "cell_type": "markdown",
   "metadata": {},
   "source": [
    "HW9, Q1."
   ]
  },
  {
   "cell_type": "code",
   "execution_count": 1,
   "metadata": {},
   "outputs": [],
   "source": [
    "%load_ext gams_magic"
   ]
  },
  {
   "cell_type": "code",
   "execution_count": 2,
   "metadata": {},
   "outputs": [
    {
     "data": {
      "text/html": [
       "<div>\n",
       "<style scoped>\n",
       "    .dataframe tbody tr th:only-of-type {\n",
       "        vertical-align: middle;\n",
       "    }\n",
       "\n",
       "    .dataframe tbody tr th {\n",
       "        vertical-align: top;\n",
       "    }\n",
       "\n",
       "    .dataframe thead th {\n",
       "        text-align: right;\n",
       "    }\n",
       "</style>\n",
       "<table border=\"1\" class=\"dataframe\">\n",
       "  <thead>\n",
       "    <tr style=\"text-align: right;\">\n",
       "      <th></th>\n",
       "      <th>Solver Status</th>\n",
       "      <th>Model Status</th>\n",
       "      <th>Objective</th>\n",
       "      <th>#equ</th>\n",
       "      <th>#var</th>\n",
       "      <th>Model Type</th>\n",
       "      <th>Solver</th>\n",
       "      <th>Solver Time</th>\n",
       "    </tr>\n",
       "  </thead>\n",
       "  <tbody>\n",
       "    <tr>\n",
       "      <th>0</th>\n",
       "      <td>Normal (1)</td>\n",
       "      <td>Optimal Global (1)</td>\n",
       "      <td>4950.0</td>\n",
       "      <td>8</td>\n",
       "      <td>13</td>\n",
       "      <td>LP</td>\n",
       "      <td>CPLEX</td>\n",
       "      <td>0.002</td>\n",
       "    </tr>\n",
       "  </tbody>\n",
       "</table>\n",
       "</div>"
      ],
      "text/plain": [
       "  Solver Status        Model Status  Objective #equ #var Model Type Solver  \\\n",
       "0    Normal (1)  Optimal Global (1)     4950.0    8   13         LP  CPLEX   \n",
       "\n",
       "  Solver Time  \n",
       "0       0.002  "
      ]
     },
     "execution_count": 2,
     "metadata": {},
     "output_type": "execute_result"
    }
   ],
   "source": [
    "%%gams\n",
    "\n",
    "set\n",
    "i \"warehouses\" /w1, w2, w3, dummy/\n",
    "j \"customers\" /c1*c3/;\n",
    "\n",
    "# Because total demand exceeds total supply we add a dummy supply point with\n",
    "# supply equal to total demand - total supply\n",
    "# Unit transportation cost from the dummy supply point will be\n",
    "# the penalty cost\n",
    "\n",
    "parameters\n",
    "s(i) \"supply amount\"/\n",
    "        w1      30\n",
    "        w2      30\n",
    "        w3      30\n",
    "        dummy   40/\n",
    "\n",
    "d(j) \"demand amount\"/\n",
    "        c1      40\n",
    "        c2      50\n",
    "        c3      40/;\n",
    "\n",
    "table c(i,j) \"unit transportation cost\"\n",
    "         c1      c2      c3\n",
    "w1       15      35      25\n",
    "w2       10      50      40\n",
    "w3       20      40      30\n",
    "dummy    70      75      65;\n",
    "\n",
    "free variables cost \"total cost\";\n",
    "\n",
    "positive variables\n",
    "x (i,j) \"transportation quantity\";\n",
    "\n",
    "equations\n",
    "obj \"minimizing the total cost\",\n",
    "supply(i) \"the supply constraint\",\n",
    "demand(j) \"the demand constraint\";\n",
    "\n",
    "obj..\n",
    "cost =e= sum((i,j), c(i,j)*x(i,j));\n",
    "\n",
    "supply(i)..\n",
    "sum(j, x(i,j)) =e= s(i);\n",
    "\n",
    "demand(j)..\n",
    "sum(i, x(i,j)) =e= d(j);\n",
    "\n",
    "model company /all/;\n",
    "solve company using lp minimizing cost;\n",
    "\n",
    "\n"
   ]
  },
  {
   "cell_type": "code",
   "execution_count": 3,
   "metadata": {},
   "outputs": [
    {
     "name": "stdout",
     "output_type": "stream",
     "text": [
      "E x e c u t i o n\n",
      "\n",
      "\n",
      "----     54 VARIABLE x.L  transportation quantity\n",
      "\n",
      "               c1          c2          c3\n",
      "\n",
      "w1                     30.000\n",
      "w2         30.000\n",
      "w3         10.000      20.000\n",
      "dummy                              40.000\n",
      "\n",
      "\n",
      "----     54 VARIABLE cost.L                =     4950.000  total cost\n",
      "\n",
      "\n",
      "\n"
     ]
    }
   ],
   "source": [
    "%gams display x.l, cost.l; \n",
    "%gams_lst -e"
   ]
  }
 ],
 "metadata": {
  "kernelspec": {
   "display_name": "Python 3",
   "language": "python",
   "name": "python3"
  },
  "language_info": {
   "codemirror_mode": {
    "name": "ipython",
    "version": 3
   },
   "file_extension": ".py",
   "mimetype": "text/x-python",
   "name": "python",
   "nbconvert_exporter": "python",
   "pygments_lexer": "ipython3",
   "version": "3.6.6"
  }
 },
 "nbformat": 4,
 "nbformat_minor": 2
}
