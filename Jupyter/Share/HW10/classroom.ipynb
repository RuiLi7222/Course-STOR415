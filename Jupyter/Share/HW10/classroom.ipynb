{
 "cells": [
  {
   "cell_type": "code",
   "execution_count": null,
   "metadata": {},
   "outputs": [],
   "source": [
    "%load_ext gams_magic"
   ]
  },
  {
   "cell_type": "raw",
   "metadata": {},
   "source": [
    "Three courses, which we will call A, B, and C, need final examination rooms. Three rooms,\n",
    "X, Y, and Z, are available for assignment. Any course could be put in any room, but since\n",
    "the exams take place at the same time only one course can be put in each room. The value\n",
    "of placing each course in each of the available rooms is given in the following table, and the\n",
    "total value is the sum of the values of the three placements that will be made.\n",
    "\n",
    "Course Room X Room Y Room Z\n",
    "A        10      2       -8\n",
    "B        4       6       9\n",
    "C        5       -2      10"
   ]
  },
  {
   "cell_type": "code",
   "execution_count": null,
   "metadata": {},
   "outputs": [],
   "source": [
    "%%gams\n",
    "Sets\n",
    "       i   courses   / A, B, C /\n",
    "       j   rooms   / X, Y, Z / ;\n",
    "\n",
    "Table c(i,j)  negatives of the values of placing each course in each room\n",
    "              X         Y       Z\n",
    "    A        -10       -2       8\n",
    "    B        -4        -6      -9\n",
    "    C        -5         2      -10;\n",
    "\n",
    "Variables\n",
    "       x(i,j)  decision on whether to assign room j to course i\n",
    "       z       total cost;\n",
    "\n",
    "Positive Variable x ;\n",
    "\n",
    "Equations\n",
    "    cost        define objective function\n",
    "    courses(i)  course i is assigned to exactly one room\n",
    "    rooms(j)    room j is assigned exactly one course;\n",
    "\n",
    "cost ..        z  =e=  sum((i,j), c(i,j)*x(i,j)) ;\n",
    "\n",
    "courses(i) ..   sum(j, x(i,j))  =e=  1 ;\n",
    "\n",
    "rooms(j) ..   sum(i, x(i,j))  =e=  1 ;\n",
    "\n",
    "Model assignment /all/ ;\n",
    "\n",
    "#Use network simplex method (in option file).\n",
    "option lp = cplex;\n",
    "$onecho > cplex.opt\n",
    "lpmethod 3\n",
    "$offecho\n",
    "assignment.optfile = 1;\n",
    "\n",
    "Solve assignment using lp minimizing z ;"
   ]
  },
  {
   "cell_type": "code",
   "execution_count": null,
   "metadata": {},
   "outputs": [],
   "source": [
    "%gams display x.l, z.l; \n",
    "%gams_lst -e"
   ]
  }
 ],
 "metadata": {
  "kernelspec": {
   "display_name": "Python 3",
   "language": "python",
   "name": "python3"
  },
  "language_info": {
   "codemirror_mode": {
    "name": "ipython",
    "version": 3
   },
   "file_extension": ".py",
   "mimetype": "text/x-python",
   "name": "python",
   "nbconvert_exporter": "python",
   "pygments_lexer": "ipython3",
   "version": "3.6.6"
  }
 },
 "nbformat": 4,
 "nbformat_minor": 2
}
