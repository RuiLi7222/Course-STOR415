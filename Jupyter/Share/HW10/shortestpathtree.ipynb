{
 "cells": [
  {
   "cell_type": "code",
   "execution_count": null,
   "metadata": {},
   "outputs": [],
   "source": [
    "%load_ext gams_magic"
   ]
  },
  {
   "cell_type": "code",
   "execution_count": null,
   "metadata": {},
   "outputs": [],
   "source": [
    "%%gams\n",
    "# A min cost network flow problem\n",
    "# Find the shortest paths from node 1 to all other nodes\n",
    "\n",
    "set N \"nodes\" /1*6/;\n",
    "set A(N,N) \"arcs\" /1.(2*4), 2.(3*5), 3.(4*6), 4.(1,5,6), 5.(1,2,6), 6.(1*3)/;\n",
    "alias (N,j);\n",
    "\n",
    "parameters S(N) \"net supplies at nodes\"\n",
    "         /1 5, 2 -1, 3 -1, 4 -1, 5 -1, 6 -1/;\n",
    "\n",
    "\n",
    "table c(N,N)\n",
    "         1    2    3    4    5    6\n",
    "1        0    10   3    1    0    0\n",
    "2        0    0    1    1    2    0\n",
    "3        0    0    0    1    2    4\n",
    "4        1    0    0    0    2    9\n",
    "5        1    6    0    0    0    6\n",
    "6        2    3    4    0    0    0;\n",
    "\n",
    "variable totalcost, x(N,N);\n",
    "positive variable x;\n",
    "\n",
    "equations balance(N), obj;\n",
    "\n",
    "balance(N)..\n",
    "        sum(j$A(N,j), x(N,j)) - sum(j$A(j,N), x(j,N)) =e= S(N);\n",
    "\n",
    "obj..\n",
    "        totalcost =e= sum(A, c(A)*x(A));\n",
    "\n",
    "model mcnfp/all/;\n",
    "\n",
    "#Use network simplex method (in option file).\n",
    "option lp = cplex;\n",
    "$onecho > cplex.opt\n",
    "lpmethod 3\n",
    "$offecho\n",
    "mcnfp.optfile = 1;\n",
    "\n",
    "solve mcnfp using lp minimizing totalcost;"
   ]
  },
  {
   "cell_type": "code",
   "execution_count": null,
   "metadata": {},
   "outputs": [],
   "source": [
    "%gams_lst"
   ]
  },
  {
   "cell_type": "code",
   "execution_count": null,
   "metadata": {},
   "outputs": [],
   "source": [
    "%gams display x.l, totalcost.l;\n",
    "%gams_lst -e"
   ]
  }
 ],
 "metadata": {
  "kernelspec": {
   "display_name": "Python 3",
   "language": "python",
   "name": "python3"
  },
  "language_info": {
   "codemirror_mode": {
    "name": "ipython",
    "version": 3
   },
   "file_extension": ".py",
   "mimetype": "text/x-python",
   "name": "python",
   "nbconvert_exporter": "python",
   "pygments_lexer": "ipython3",
   "version": "3.6.6"
  }
 },
 "nbformat": 4,
 "nbformat_minor": 2
}
