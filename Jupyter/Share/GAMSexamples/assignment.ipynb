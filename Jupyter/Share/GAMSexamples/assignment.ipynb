{
 "cells": [
  {
   "cell_type": "code",
   "execution_count": 1,
   "metadata": {},
   "outputs": [],
   "source": [
    "%load_ext gams_magic"
   ]
  },
  {
   "cell_type": "raw",
   "metadata": {},
   "source": [
    "Machineco needs to assign each of 4 jobs to a different machine.\n",
    "The time needed to set up each\n",
    "machine for completing each job is as follows.\n",
    "\n",
    " job\\machine    1        2       3      4\n",
    "       1        14        2       7      2\n",
    "       2        5        12       8      4\n",
    "       3        8         6       3      6\n",
    "       4        7         5       9      10\n",
    "\n",
    "How to minimize the total set up time?"
   ]
  },
  {
   "cell_type": "code",
   "execution_count": null,
   "metadata": {},
   "outputs": [],
   "source": [
    "%%gams\n",
    "\n",
    "set jobs/1*4/;\n",
    "set machines /m1*m4/;\n",
    "parameters c(jobs,machines)\n",
    "/\n",
    "1.m1 14, 1.m2 2, 1.m3 7, 1.m4 2,\n",
    "2.m1 5, 2.m2 12, 2.m3 8, 2.m4 4,\n",
    "3.m1 8, 3.m2 6, 3.m3 3, 3.m4 6,\n",
    "4.m1 7, 4.m2 5, 4.m3 9, 4.m4 10\n",
    "/\n",
    "\n",
    "variables x(jobs,machines), totalcost;\n",
    "\n",
    "equations obj, jobassign(jobs), machineassign(machines);\n",
    "obj.. totalcost=e= sum((jobs,machines), x(jobs, machines));\n",
    "jobassign(jobs).. sum(machines, x(jobs,machines)) =e= 1;\n",
    "machineassign(machines).. sum(jobs, x(jobs,machines)) =e=1;\n",
    "\n",
    "model assignment/all/;\n",
    "solve assignment using lp minimizing "
   ]
  },
  {
   "cell_type": "code",
   "execution_count": 2,
   "metadata": {},
   "outputs": [
    {
     "data": {
      "text/html": [
       "<div>\n",
       "<style scoped>\n",
       "    .dataframe tbody tr th:only-of-type {\n",
       "        vertical-align: middle;\n",
       "    }\n",
       "\n",
       "    .dataframe tbody tr th {\n",
       "        vertical-align: top;\n",
       "    }\n",
       "\n",
       "    .dataframe thead th {\n",
       "        text-align: right;\n",
       "    }\n",
       "</style>\n",
       "<table border=\"1\" class=\"dataframe\">\n",
       "  <thead>\n",
       "    <tr style=\"text-align: right;\">\n",
       "      <th></th>\n",
       "      <th>Solver Status</th>\n",
       "      <th>Model Status</th>\n",
       "      <th>Objective</th>\n",
       "      <th>#equ</th>\n",
       "      <th>#var</th>\n",
       "      <th>Model Type</th>\n",
       "      <th>Solver</th>\n",
       "      <th>Solver Time</th>\n",
       "    </tr>\n",
       "  </thead>\n",
       "  <tbody>\n",
       "    <tr>\n",
       "      <th>0</th>\n",
       "      <td>Normal (1)</td>\n",
       "      <td>Optimal Global (1)</td>\n",
       "      <td>15.0</td>\n",
       "      <td>9</td>\n",
       "      <td>17</td>\n",
       "      <td>LP</td>\n",
       "      <td>CPLEX</td>\n",
       "      <td>0.003</td>\n",
       "    </tr>\n",
       "  </tbody>\n",
       "</table>\n",
       "</div>"
      ],
      "text/plain": [
       "  Solver Status        Model Status  Objective #equ #var Model Type Solver  \\\n",
       "0    Normal (1)  Optimal Global (1)       15.0    9   17         LP  CPLEX   \n",
       "\n",
       "  Solver Time  \n",
       "0       0.003  "
      ]
     },
     "execution_count": 2,
     "metadata": {},
     "output_type": "execute_result"
    }
   ],
   "source": [
    "%%gams\n",
    "\n",
    "Sets\n",
    "       i   jobs   / 1*4 /,\n",
    "       j   machines   / m1*m4 /;\n",
    "\n",
    "Table c(i,j)  time to set up machine j to do job i\n",
    "                m1       m2       m3     m4\n",
    "       1        14        2       7      2\n",
    "       2        5        12       8      4\n",
    "       3        8         6       3      6\n",
    "       4        7         5       9      10;\n",
    "\n",
    "Variables\n",
    "       x(i,j)  decision on whether to assign job i to machine j\n",
    "       z       total set up time;\n",
    "\n",
    "Positive Variable x ;\n",
    "\n",
    "Equations\n",
    "    cost        define objective function\n",
    "    job(i)  job i is assigned to exactly one machine\n",
    "    machine(j)      machine j is assigned one job;\n",
    "\n",
    "cost ..        z  =e=  sum((i,j), c(i,j)*x(i,j)) ;\n",
    "\n",
    "job(i) ..   sum(j, x(i,j))  =e=  1 ;\n",
    "\n",
    "machine(j) ..   sum(i, x(i,j))  =e=  1 ;\n",
    "\n",
    "Model assignment /all/ ;\n",
    "\n",
    "#Add the following statements to inform GAMS to use the \n",
    "#network simplex method to solve your model.\n",
    "#The $ symbol has to be the first character in the line.\n",
    "option lp = cplex;\n",
    "$onecho > cplex.opt\n",
    "lpmethod 3\n",
    "$offecho\n",
    "assignment.optfile = 1;\n",
    "\n",
    "#GAMS option limrow specifies the number of equations to include in GAMS listing file\n",
    "option limrow = 3;\n",
    "\n",
    "#GAMS option solprint on/off: whether to not to include the solution report part in the listing file\n",
    "option solprint = on;\n",
    "\n",
    "solve assignment using lp minimizing z;\n"
   ]
  },
  {
   "cell_type": "code",
   "execution_count": null,
   "metadata": {},
   "outputs": [],
   "source": [
    "%gams_lst"
   ]
  },
  {
   "cell_type": "code",
   "execution_count": 3,
   "metadata": {},
   "outputs": [
    {
     "name": "stdout",
     "output_type": "stream",
     "text": [
      "E x e c u t i o n\n",
      "\n",
      "\n",
      "----     50 VARIABLE x.L  decision on whether to assign job i to machine j\n",
      "\n",
      "           m1          m2          m3          m4\n",
      "\n",
      "1                                           1.000\n",
      "2       1.000\n",
      "3                               1.000\n",
      "4                   1.000\n",
      "\n",
      "\n",
      "----     50 VARIABLE z.L                   =       15.000  total set up time\n",
      "\n",
      "\n",
      "\n"
     ]
    }
   ],
   "source": [
    "%gams display x.l, z.l;\n",
    "%gams_lst -e"
   ]
  }
 ],
 "metadata": {
  "kernelspec": {
   "display_name": "Python 3",
   "language": "python",
   "name": "python3"
  },
  "language_info": {
   "codemirror_mode": {
    "name": "ipython",
    "version": 3
   },
   "file_extension": ".py",
   "mimetype": "text/x-python",
   "name": "python",
   "nbconvert_exporter": "python",
   "pygments_lexer": "ipython3",
   "version": "3.6.9"
  }
 },
 "nbformat": 4,
 "nbformat_minor": 2
}
