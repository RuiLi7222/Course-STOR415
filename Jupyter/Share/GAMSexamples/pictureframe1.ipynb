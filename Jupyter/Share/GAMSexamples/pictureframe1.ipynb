{
 "cells": [
  {
   "cell_type": "code",
   "execution_count": 1,
   "metadata": {},
   "outputs": [],
   "source": [
    "%load_ext gams_magic\n",
    "\n",
    "#This is to load the extension gams_magic to enable the GAMS magic commands"
   ]
  },
  {
   "cell_type": "code",
   "execution_count": 2,
   "metadata": {},
   "outputs": [
    {
     "data": {
      "text/html": [
       "<div>\n",
       "<style scoped>\n",
       "    .dataframe tbody tr th:only-of-type {\n",
       "        vertical-align: middle;\n",
       "    }\n",
       "\n",
       "    .dataframe tbody tr th {\n",
       "        vertical-align: top;\n",
       "    }\n",
       "\n",
       "    .dataframe thead th {\n",
       "        text-align: right;\n",
       "    }\n",
       "</style>\n",
       "<table border=\"1\" class=\"dataframe\">\n",
       "  <thead>\n",
       "    <tr style=\"text-align: right;\">\n",
       "      <th></th>\n",
       "      <th>Solver Status</th>\n",
       "      <th>Model Status</th>\n",
       "      <th>Objective</th>\n",
       "      <th>#equ</th>\n",
       "      <th>#var</th>\n",
       "      <th>Model Type</th>\n",
       "      <th>Solver</th>\n",
       "      <th>Solver Time</th>\n",
       "    </tr>\n",
       "  </thead>\n",
       "  <tbody>\n",
       "    <tr>\n",
       "      <td>0</td>\n",
       "      <td>Normal (1)</td>\n",
       "      <td>Optimal Global (1)</td>\n",
       "      <td>7450.0</td>\n",
       "      <td>5</td>\n",
       "      <td>3</td>\n",
       "      <td>LP</td>\n",
       "      <td>OSICPLEX</td>\n",
       "      <td>0</td>\n",
       "    </tr>\n",
       "  </tbody>\n",
       "</table>\n",
       "</div>"
      ],
      "text/plain": [
       "  Solver Status        Model Status  Objective #equ #var Model Type    Solver  \\\n",
       "0    Normal (1)  Optimal Global (1)     7450.0    5    3         LP  OSICPLEX   \n",
       "\n",
       "  Solver Time  \n",
       "0           0  "
      ]
     },
     "execution_count": 2,
     "metadata": {},
     "output_type": "execute_result"
    }
   ],
   "source": [
    "%%gams \n",
    "\n",
    "#By starting a cell with the GAMS magic commands %%gams, you make the whole cell a GAMS cell, to write GAMS codes in this cell.\n",
    "\n",
    "variables x1 \"type 1 picture frames\", x2 \"type 2 picture frames\", \n",
    "profit \"total profit\";\n",
    "\n",
    "equations obj    \"max total profit\", \n",
    "labor  \"labor hours\", \n",
    "metal  \"metal in oz\",\n",
    "lbx1, lbx2;\n",
    "\n",
    "obj.. profit =e= 2.25*x1 + 2.60*x2;\n",
    "\n",
    "labor.. 2*x1 + x2 =l= 4000;\n",
    "\n",
    "metal.. 1*x1 +2*x2 =l= 5000;\n",
    "\n",
    "lbx1.. x1 =g= 0;\n",
    "\n",
    "lbx2.. x2 =g= 0;\n",
    "\n",
    "model picframe /obj, labor, metal, lbx1, lbx2/;\n",
    "\n",
    "\n",
    "\n",
    "solve picframe using lp maximizing profit;\n",
    "\n"
   ]
  },
  {
   "cell_type": "markdown",
   "metadata": {},
   "source": []
  },
  {
   "cell_type": "code",
   "execution_count": null,
   "metadata": {},
   "outputs": [],
   "source": [
    "%gams_lst\n",
    "\n",
    "# The magic command %gams_lst is used to display the content of the listing file of the most recent GAMS execution"
   ]
  },
  {
   "cell_type": "code",
   "execution_count": null,
   "metadata": {
    "scrolled": true
   },
   "outputs": [],
   "source": [
    "%gams display x1.l, x2.l, profit.l;\n",
    "%gams_lst -e\n",
    "\n",
    "# The magic command %gams is used for running a single line of GAMS code. Here, the GAMS code is to display values \n",
    "# of variables. The -e option for the magic command %gams_lst makes it only display the section of the listing file \n",
    "# associated with the execution."
   ]
  },
  {
   "cell_type": "code",
   "execution_count": null,
   "metadata": {},
   "outputs": [],
   "source": [
    "%gams_cleanup\n",
    "\n",
    "# The %gams_cleanup call help you to clean the directory of temporary files. "
   ]
  },
  {
   "cell_type": "markdown",
   "metadata": {},
   "source": []
  }
 ],
 "metadata": {
  "kernelspec": {
   "display_name": "Python 3",
   "language": "python",
   "name": "python3"
  },
  "language_info": {
   "codemirror_mode": {
    "name": "ipython",
    "version": 3
   },
   "file_extension": ".py",
   "mimetype": "text/x-python",
   "name": "python",
   "nbconvert_exporter": "python",
   "pygments_lexer": "ipython3",
   "version": "3.6.9"
  }
 },
 "nbformat": 4,
 "nbformat_minor": 2
}
