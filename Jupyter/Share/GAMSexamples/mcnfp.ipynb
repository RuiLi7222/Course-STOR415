{
 "cells": [
  {
   "cell_type": "code",
   "execution_count": null,
   "metadata": {},
   "outputs": [],
   "source": [
    "%load_ext gams_magic"
   ]
  },
  {
   "cell_type": "code",
   "execution_count": null,
   "metadata": {},
   "outputs": [],
   "source": [
    "%gams_reset"
   ]
  },
  {
   "cell_type": "code",
   "execution_count": null,
   "metadata": {},
   "outputs": [],
   "source": [
    "%%gams\n",
    "\n",
    "# A min cost network flow problem\n",
    "\n",
    "set N \"nodes\" /1*4/;\n",
    "set A(N,N) \"arcs\" /1.2, 1.3, 2.3, 3.2, 2.4, 3.4/;\n",
    "alias (N,j);\n",
    "\n",
    "parameters S(N) \"supplies at nodes\"\n",
    "         /1 10, 2 30, 3 10, 4 -50/\n",
    "\n",
    "         c(N,N) \"cost for arcs\" /\n",
    "          1.2   5\n",
    "          1.3   1\n",
    "          2.3   1\n",
    "          3.2   2\n",
    "          2.4   10\n",
    "          3.4   8/\n",
    "\n",
    "         u(N,N) \"upper bounds\" /\n",
    "          1.2   30\n",
    "          1.3   100\n",
    "          2.3   100\n",
    "          3.2   10\n",
    "          2.4   100\n",
    "          3.4   20/;\n",
    "\n",
    "variable totalcost, x(N,N);\n",
    "positive variable x;\n",
    "\n",
    "equations balance(N), obj, upbdd(N,N);\n",
    "\n",
    "balance(N)..\n",
    "        sum(j$A(N,j), x(N,j)) - sum(j$A(j,N), x(j,N)) =e= S(N);\n",
    "\n",
    "obj..\n",
    "        totalcost =e= sum(A, c(A)*x(A));\n",
    "\n",
    "upbdd(A)..\n",
    "        x(A) =l= u(A);\n",
    "\n",
    "#Instead of declaring and defining the equation upbdd, can\n",
    "#assign upper bounds to x by the following statement:\n",
    "#x.up(A) = u(A);\n",
    "\n",
    "model mcnfp/all/;\n",
    "\n",
    "#The following statements inform GAMS to use the network\n",
    "#simplex method to solve your model.\n",
    "\n",
    "option lp = cplex;\n",
    "$onecho > cplex.opt\n",
    "lpmethod 3\n",
    "$offecho\n",
    "mcnfp.optfile = 1;\n",
    "\n",
    "#GAMS option limrow specifies the number of equations to include in GAMS listing file\n",
    "option limrow = 3;\n",
    "\n",
    "#GAMS option solprint on/off: whether to not to include the solution report part in the listing file\n",
    "option solprint = on;\n",
    "\n",
    "solve mcnfp using lp minimizing totalcost;\n"
   ]
  },
  {
   "cell_type": "code",
   "execution_count": null,
   "metadata": {},
   "outputs": [],
   "source": [
    "%gams_lst"
   ]
  },
  {
   "cell_type": "code",
   "execution_count": null,
   "metadata": {},
   "outputs": [],
   "source": [
    "%gams display x.l, totalcost.l;\n",
    "%gams_lst -e"
   ]
  },
  {
   "cell_type": "code",
   "execution_count": null,
   "metadata": {},
   "outputs": [],
   "source": [
    "%gams_reset"
   ]
  },
  {
   "cell_type": "code",
   "execution_count": null,
   "metadata": {},
   "outputs": [],
   "source": [
    "%%gams\n",
    "\n",
    "Set i \"plant locations\" / palmasola, pto-suarez, potosi, baranquill, cartagena /;\n",
    "Alias(i,ip);\n",
    "\n",
    "Table tran(i,i) \"transport cost for interplant shipments (us$ per ton)\"\n",
    "              palmasola    pto-suarez     potosi  baranquill\n",
    " pto-suarez       87.22\n",
    " potosi           31.25         55.97\n",
    " baranquill       89.80        114.56      70.68\n",
    " cartagena        89.80        114.56      70.68        5.00\n",
    ";\n",
    "Parameter mui(i,ip) \"transport cost: interplant shipments (us$ per ton)\";\n",
    "mui(i,ip) = (tran(i,ip) + tran(ip,i));"
   ]
  },
  {
   "cell_type": "code",
   "execution_count": null,
   "metadata": {},
   "outputs": [],
   "source": [
    "%gams display mui;\n",
    "%gams_lst -e"
   ]
  },
  {
   "cell_type": "code",
   "execution_count": null,
   "metadata": {},
   "outputs": [],
   "source": [
    "%gams_reset"
   ]
  },
  {
   "cell_type": "code",
   "execution_count": null,
   "metadata": {},
   "outputs": [],
   "source": [
    "%%gams\n",
    "\n",
    "Set i \"plant locations\" / palmasola, pto-suarez, potosi, baranquill, cartagena /;\n",
    "Alias(i,ip);\n",
    "\n",
    "Table tran(i,i) \"transport cost for interplant shipments (us$ per ton)\"\n",
    "              palmasola    pto-suarez     potosi  baranquill\n",
    " pto-suarez       87.22\n",
    " potosi           31.25         55.97\n",
    " baranquill       89.80        114.56      70.68\n",
    " cartagena        89.80        114.56      70.68        5.00\n",
    ";\n",
    "Parameter mui(i,i) \"transport cost: interplant shipments (us$ per ton)\";\n",
    "mui(i,i) = (tran(i,i) + tran(i,i));\n"
   ]
  },
  {
   "cell_type": "code",
   "execution_count": null,
   "metadata": {},
   "outputs": [],
   "source": [
    "%gams display Mui;\n",
    "%gams_lst -e"
   ]
  },
  {
   "cell_type": "code",
   "execution_count": null,
   "metadata": {},
   "outputs": [],
   "source": [
    "%gams_lst"
   ]
  }
 ],
 "metadata": {
  "kernelspec": {
   "display_name": "Python 3",
   "language": "python",
   "name": "python3"
  },
  "language_info": {
   "codemirror_mode": {
    "name": "ipython",
    "version": 3
   },
   "file_extension": ".py",
   "mimetype": "text/x-python",
   "name": "python",
   "nbconvert_exporter": "python",
   "pygments_lexer": "ipython3",
   "version": "3.6.9"
  }
 },
 "nbformat": 4,
 "nbformat_minor": 2
}
