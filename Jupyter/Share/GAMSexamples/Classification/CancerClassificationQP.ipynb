{
 "cells": [
  {
   "cell_type": "code",
   "execution_count": 1,
   "metadata": {},
   "outputs": [],
   "source": [
    "%load_ext gams_magic"
   ]
  },
  {
   "cell_type": "code",
   "execution_count": 2,
   "metadata": {},
   "outputs": [
    {
     "data": {
      "text/html": [
       "<div>\n",
       "<style scoped>\n",
       "    .dataframe tbody tr th:only-of-type {\n",
       "        vertical-align: middle;\n",
       "    }\n",
       "\n",
       "    .dataframe tbody tr th {\n",
       "        vertical-align: top;\n",
       "    }\n",
       "\n",
       "    .dataframe thead th {\n",
       "        text-align: right;\n",
       "    }\n",
       "</style>\n",
       "<table border=\"1\" class=\"dataframe\">\n",
       "  <thead>\n",
       "    <tr style=\"text-align: right;\">\n",
       "      <th></th>\n",
       "      <th>Solver Status</th>\n",
       "      <th>Model Status</th>\n",
       "      <th>Objective</th>\n",
       "      <th>#equ</th>\n",
       "      <th>#var</th>\n",
       "      <th>Model Type</th>\n",
       "      <th>Solver</th>\n",
       "      <th>Solver Time</th>\n",
       "    </tr>\n",
       "  </thead>\n",
       "  <tbody>\n",
       "    <tr>\n",
       "      <td>0</td>\n",
       "      <td>Normal (1)</td>\n",
       "      <td>OptimalLocal (2)</td>\n",
       "      <td>0.2699</td>\n",
       "      <td>291</td>\n",
       "      <td>294</td>\n",
       "      <td>QCP</td>\n",
       "      <td>CONOPT</td>\n",
       "      <td>0.006</td>\n",
       "    </tr>\n",
       "  </tbody>\n",
       "</table>\n",
       "</div>"
      ],
      "text/plain": [
       "  Solver Status      Model Status  Objective #equ #var Model Type  Solver  \\\n",
       "0    Normal (1)  OptimalLocal (2)     0.2699  291  294        QCP  CONOPT   \n",
       "\n",
       "  Solver Time  \n",
       "0       0.006  "
      ]
     },
     "execution_count": 2,
     "metadata": {},
     "output_type": "execute_result"
    }
   ],
   "source": [
    "%%gams\n",
    "\n",
    "#Include data from .csv into GAMS\n",
    "#Instructions:\n",
    "#http://www.gams.com/help/index.jsp?topic=%2Fgams.doc%2Fuserguides%2Fuserguide%2F_u_g__set_definition.html\n",
    "#https://www.gams.com/latest/docs/UG_DataExchange_ASCII.html\n",
    "#In order to include the csv file, save the csv file in the same folder\n",
    "\n",
    "Sets patients /1*290/,\n",
    "     features /Diagnosis, Attr1, Attr2/;\n",
    "table data(patients,features)\n",
    "$ondelim\n",
    "$include traindata.csv\n",
    "$offdelim\n",
    "\n",
    "display data;\n",
    "\n",
    "scalar m number of patients /290/,\n",
    "       mu user-specified parameter /0.5/;\n",
    "\n",
    "\n",
    "\n",
    "display m;\n",
    "\n",
    "#w1, w2, b: defines a linear function w1*attr1+w2*attr2+b\n",
    "#This function will be used to classify maglinant (function value >0) versus benign (function value <0).\n",
    "\n",
    "variables w1, w2, b;\n",
    "free variable totalpenalty;\n",
    "positive variables penalty(patients);\n",
    "\n",
    "equations obj, measurepenalty(patients);\n",
    "\n",
    "obj..\n",
    "totalpenalty =e= sum(patients, penalty(patients))/m + mu*(w1*w1+w2*w2);\n",
    "\n",
    "measurepenalty(patients)..\n",
    "penalty(patients) =g=\n",
    "      1- data(patients,'diagnosis')*(w1*data(patients,'attr1')+w2*data(patients,'attr2') + b);\n",
    "\n",
    "model classification/all/;\n",
    "\n",
    "#This controls the number of rows that are listed for each equation in the EQUATION LISTING section of the listing file\n",
    "option limrow=100;\n",
    "solve classification using qcp minimizing totalpenalty;"
   ]
  },
  {
   "cell_type": "code",
   "execution_count": null,
   "metadata": {},
   "outputs": [],
   "source": [
    "%gams_lst"
   ]
  },
  {
   "cell_type": "code",
   "execution_count": 3,
   "metadata": {},
   "outputs": [
    {
     "name": "stdout",
     "output_type": "stream",
     "text": [
      "E x e c u t i o n\n",
      "\n",
      "\n",
      "----    341 VARIABLE w1.L                  =        0.336  \n",
      "            VARIABLE w2.L                  =        0.098  \n",
      "            VARIABLE b.L                   =       -8.057  \n",
      "\n",
      "\n"
     ]
    }
   ],
   "source": [
    "%gams display w1.l, w2.l, b.l;\n",
    "%gams_lst -e"
   ]
  },
  {
   "cell_type": "code",
   "execution_count": null,
   "metadata": {},
   "outputs": [],
   "source": [
    "%gams_cleanup"
   ]
  },
  {
   "cell_type": "code",
   "execution_count": null,
   "metadata": {},
   "outputs": [],
   "source": []
  }
 ],
 "metadata": {
  "kernelspec": {
   "display_name": "Python 3",
   "language": "python",
   "name": "python3"
  },
  "language_info": {
   "codemirror_mode": {
    "name": "ipython",
    "version": 3
   },
   "file_extension": ".py",
   "mimetype": "text/x-python",
   "name": "python",
   "nbconvert_exporter": "python",
   "pygments_lexer": "ipython3",
   "version": "3.6.9"
  }
 },
 "nbformat": 4,
 "nbformat_minor": 2
}
