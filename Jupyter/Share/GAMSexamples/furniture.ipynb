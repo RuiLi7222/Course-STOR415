{
 "cells": [
  {
   "cell_type": "code",
   "execution_count": 2,
   "metadata": {},
   "outputs": [],
   "source": [
    "%load_ext gams_magic"
   ]
  },
  {
   "cell_type": "markdown",
   "metadata": {},
   "source": [
    "# An integer programming problem\n",
    "\n",
    "Woody's Furniture Company produces chairs and tables. Chairs are made entirely out of pine, and each chair uses 14 linear feet of pine.  Tables are made of pine and mahogany, and each table uses 26 linear feet of pine and 15 linear feet of mahogany. Each chair requires 8 hours of labor to produce, and each table requires 3 hours of labor. The profit from each chair is $\\$$35, and the profit from each tables is $\\$$60.\n",
    "\n",
    " Woody has 190 linear feet of pine and 60 linear feet of mahogany available each day,\n",
    " and has a work force of 92 labor hours each day.\n",
    "How should Woody use his resources to achieve the maximum daily profit, if the numbers of chairs and tables he makes daily have to be integers?"
   ]
  },
  {
   "cell_type": "code",
   "execution_count": 3,
   "metadata": {},
   "outputs": [
    {
     "data": {
      "text/html": [
       "<div>\n",
       "<style scoped>\n",
       "    .dataframe tbody tr th:only-of-type {\n",
       "        vertical-align: middle;\n",
       "    }\n",
       "\n",
       "    .dataframe tbody tr th {\n",
       "        vertical-align: top;\n",
       "    }\n",
       "\n",
       "    .dataframe thead th {\n",
       "        text-align: right;\n",
       "    }\n",
       "</style>\n",
       "<table border=\"1\" class=\"dataframe\">\n",
       "  <thead>\n",
       "    <tr style=\"text-align: right;\">\n",
       "      <th></th>\n",
       "      <th>Solver Status</th>\n",
       "      <th>Model Status</th>\n",
       "      <th>Objective</th>\n",
       "      <th>#equ</th>\n",
       "      <th>#var</th>\n",
       "      <th>Model Type</th>\n",
       "      <th>Solver</th>\n",
       "      <th>Solver Time</th>\n",
       "    </tr>\n",
       "  </thead>\n",
       "  <tbody>\n",
       "    <tr>\n",
       "      <td>0</td>\n",
       "      <td>Normal (1)</td>\n",
       "      <td>Optimal Global (1)</td>\n",
       "      <td>460.0</td>\n",
       "      <td>4</td>\n",
       "      <td>3</td>\n",
       "      <td>MIP</td>\n",
       "      <td>CPLEX</td>\n",
       "      <td>0.027</td>\n",
       "    </tr>\n",
       "  </tbody>\n",
       "</table>\n",
       "</div>"
      ],
      "text/plain": [
       "  Solver Status        Model Status  Objective #equ #var Model Type Solver  \\\n",
       "0    Normal (1)  Optimal Global (1)      460.0    4    3        MIP  CPLEX   \n",
       "\n",
       "  Solver Time  \n",
       "0       0.027  "
      ]
     },
     "execution_count": 3,
     "metadata": {},
     "output_type": "execute_result"
    }
   ],
   "source": [
    "%%gams\n",
    "\n",
    "set I products /chair, tab/\n",
    "    J resource /pine, mahogany, labor/;\n",
    "\n",
    "parameters\n",
    "       sellingPrice(I) /chair 35, tab 60/,\n",
    "       resLimit(J) /pine 190, mahogany 60, labor 92/;\n",
    "\n",
    "table  a(I,J) use of resource per unit of product\n",
    "         pine    mahogany        labor\n",
    "chair    14      0               8\n",
    "tab      26      15              3;\n",
    "\n",
    "free variable profit \"total profit\";\n",
    "\n",
    "integer variables\n",
    "x(I) number of products;\n",
    "\n",
    "equations\n",
    "obj    \"max total profit\",\n",
    "resLim(J)  \"observe upper limit of resources\";\n",
    "\n",
    "obj..\n",
    "profit =e=   sum(I, sellingPrice(I)*x(I));\n",
    "\n",
    "resLim(J)..\n",
    "sum(I, a(I,J)*x(I)) =l= resLimit(J);\n",
    "\n",
    "model woody /all/;\n",
    "\n",
    "#Add the following statements to set the relative gap to be 0.01\n",
    "option mip = cplex;\n",
    "$onecho > cplex.opt\n",
    "epgap=0.01\n",
    "$offecho\n",
    "woody.optfile = 1;\n",
    "\n",
    "#GAMS option limrow specifies the number of equations to include in GAMS listing file\n",
    "option limrow = 3;\n",
    "\n",
    "#GAMS option solprint on/off: whether to not to include the solution report part in the listing file\n",
    "option solprint = on;\n",
    "\n",
    "solve woody using mip maximizing profit;\n"
   ]
  },
  {
   "cell_type": "code",
   "execution_count": null,
   "metadata": {},
   "outputs": [],
   "source": [
    "%gams_lst"
   ]
  },
  {
   "cell_type": "code",
   "execution_count": 4,
   "metadata": {},
   "outputs": [
    {
     "name": "stdout",
     "output_type": "stream",
     "text": [
      "E x e c u t i o n\n",
      "\n",
      "\n",
      "----     50 VARIABLE x.L  number of products\n",
      "\n",
      "chair 8.000,    tab   3.000\n",
      "\n",
      "\n",
      "----     50 VARIABLE profit.L              =      460.000  total profit\n",
      "\n",
      "\n"
     ]
    }
   ],
   "source": [
    "%gams display x.l, profit.l;\n",
    "%gams_lst -e"
   ]
  },
  {
   "cell_type": "code",
   "execution_count": 5,
   "metadata": {},
   "outputs": [],
   "source": [
    "%gams_cleanup"
   ]
  },
  {
   "cell_type": "code",
   "execution_count": null,
   "metadata": {},
   "outputs": [],
   "source": []
  }
 ],
 "metadata": {
  "kernelspec": {
   "display_name": "Python 3",
   "language": "python",
   "name": "python3"
  },
  "language_info": {
   "codemirror_mode": {
    "name": "ipython",
    "version": 3
   },
   "file_extension": ".py",
   "mimetype": "text/x-python",
   "name": "python",
   "nbconvert_exporter": "python",
   "pygments_lexer": "ipython3",
   "version": "3.6.9"
  }
 },
 "nbformat": 4,
 "nbformat_minor": 2
}
