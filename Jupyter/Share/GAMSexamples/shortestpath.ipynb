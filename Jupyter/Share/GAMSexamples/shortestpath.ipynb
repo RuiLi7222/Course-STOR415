{
 "cells": [
  {
   "cell_type": "code",
   "execution_count": 1,
   "metadata": {},
   "outputs": [],
   "source": [
    "%load_ext gams_magic"
   ]
  },
  {
   "cell_type": "markdown",
   "metadata": {},
   "source": [
    "# The shortest path problem: \n",
    "\n",
    "Find the shortest path from node s to node y in the following directed network\n",
    "\n",
    "![alt text](shortestpath.png \"\")"
   ]
  },
  {
   "cell_type": "code",
   "execution_count": 10,
   "metadata": {},
   "outputs": [
    {
     "data": {
      "text/html": [
       "<div>\n",
       "<style scoped>\n",
       "    .dataframe tbody tr th:only-of-type {\n",
       "        vertical-align: middle;\n",
       "    }\n",
       "\n",
       "    .dataframe tbody tr th {\n",
       "        vertical-align: top;\n",
       "    }\n",
       "\n",
       "    .dataframe thead th {\n",
       "        text-align: right;\n",
       "    }\n",
       "</style>\n",
       "<table border=\"1\" class=\"dataframe\">\n",
       "  <thead>\n",
       "    <tr style=\"text-align: right;\">\n",
       "      <th></th>\n",
       "      <th>Solver Status</th>\n",
       "      <th>Model Status</th>\n",
       "      <th>Objective</th>\n",
       "      <th>#equ</th>\n",
       "      <th>#var</th>\n",
       "      <th>Model Type</th>\n",
       "      <th>Solver</th>\n",
       "      <th>Solver Time</th>\n",
       "    </tr>\n",
       "  </thead>\n",
       "  <tbody>\n",
       "    <tr>\n",
       "      <td>0</td>\n",
       "      <td>Normal (1)</td>\n",
       "      <td>Optimal Global (1)</td>\n",
       "      <td>5.0</td>\n",
       "      <td>7</td>\n",
       "      <td>14</td>\n",
       "      <td>LP</td>\n",
       "      <td>OSICPLEX</td>\n",
       "      <td>0</td>\n",
       "    </tr>\n",
       "  </tbody>\n",
       "</table>\n",
       "</div>"
      ],
      "text/plain": [
       "  Solver Status        Model Status  Objective #equ #var Model Type    Solver  \\\n",
       "0    Normal (1)  Optimal Global (1)        5.0    7   14         LP  OSICPLEX   \n",
       "\n",
       "  Solver Time  \n",
       "0           0  "
      ]
     },
     "execution_count": 10,
     "metadata": {},
     "output_type": "execute_result"
    }
   ],
   "source": [
    "%%gams\n",
    "\n",
    "#definitions of sets\n",
    "set Nodes /s, u, x, z, v, y/;\n",
    "alias(j,Nodes);\n",
    "set Arcs(Nodes,Nodes) /s.u, u.s, s.x, u.x, x.u, u.z, z.u, x.z, x.y, z.y, u.v, z.v,\n",
    "         v.y/;\n",
    "\n",
    "parameters c(Nodes, Nodes) /\n",
    "s.u 1, u.s 1, s.x 3, u.x 3, x.u 3, u.z 2, z.u 3, x.z 1, x.y 2, z.y 3, \n",
    "u.v 4, z.v 1, v.y 2/;\n",
    "\n",
    "parameters netsupply(Nodes) /s 1, y -1/;\n",
    "\n",
    "#definition of variables \n",
    "variables x(Nodes, Nodes), totalcost; \n",
    "\n",
    "positive variable x;\n",
    "\n",
    "#definition of equations\n",
    "equations balance(Nodes), obj;\n",
    "\n",
    "balance(Nodes).. sum(j$Arcs(Nodes,j), x(Nodes, j)) \n",
    "    - sum(j$Arcs(j,Nodes), x(j,Nodes)) =e= netsupply(Nodes); \n",
    "\n",
    "obj.. totalcost =e= sum(Arcs, c(Arcs)*x(Arcs));     \n",
    "\n",
    "model shortestpath/all/;\n",
    "solve shortestpath using lp minimizing totalcost; \n",
    "    \n",
    "    "
   ]
  },
  {
   "cell_type": "code",
   "execution_count": 9,
   "metadata": {},
   "outputs": [
    {
     "name": "stdout",
     "output_type": "stream",
     "text": [
      "E x e c u t i o n\n",
      "\n",
      "\n",
      "----     36 VARIABLE x.L  \n",
      "\n",
      "            x           y\n",
      "\n",
      "s       1.000\n",
      "x                   1.000\n",
      "\n",
      "\n",
      "----     36 VARIABLE totalcost.L           =        5.000  \n",
      "\n",
      "\n"
     ]
    }
   ],
   "source": [
    "%gams display x.l, totalcost.l;\n",
    "%gams_lst -e"
   ]
  },
  {
   "cell_type": "code",
   "execution_count": null,
   "metadata": {},
   "outputs": [],
   "source": [
    "%%gams\n",
    "\n",
    "set N \"nodes\" /s,u,x,v,z,y/;\n",
    "set A(N,N) \"arcs\" /s.(u,x),  u.(s,x,z,v),  x.(u,z,y), z.(u,v,y),   v.y/;\n",
    "alias (N,j);\n",
    "\n",
    "parameters S(N) \"net supplies for nodes\" /s 1, y -1/, \n",
    "#supplies for other nodes will be set to 0 by default\n",
    "\n",
    "         c(N,N) \"unit cost on arcs\" /\n",
    "          s.u   1\n",
    "          s.x   3\n",
    "          u.s   1\n",
    "          u.x   3\n",
    "          u.z   2\n",
    "          u.v   4\n",
    "          x.u   3\n",
    "          x.z   1\n",
    "          x.y   2\n",
    "          z.u   3\n",
    "          z.v   1\n",
    "          z.y   3\n",
    "          v.y   2/;\n",
    "\n",
    "variable totalcost, x(N,N);\n",
    "positive variable x;\n",
    "\n",
    "equations balance(N), obj;\n",
    "\n",
    "balance(N)..\n",
    "        sum(j$A(N,j), x(N,j)) - sum(j$A(j,N), x(j,N)) =e= s(N);\n",
    "obj..\n",
    "        totalcost =e= sum(A, c(A)*x(A));\n",
    "\n",
    "model sp/balance, obj/;\n",
    "\n",
    "#Add the following statements to inform GAMS to use the network simplex method to solve your model.\n",
    "#The $ symbol has to be the first character in the line.\n",
    "\n",
    "option lp = cplex;\n",
    "$onecho > cplex.opt\n",
    "lpmethod 3\n",
    "$offecho\n",
    "sp.optfile = 1;\n",
    "\n",
    "\n",
    "#GAMS option limrow specifies the number of equations to include in GAMS listing file\n",
    "option limrow = 3;\n",
    "\n",
    "#GAMS option solprint on/off: whether to not to include the solution report part in the listing file\n",
    "option solprint = on;\n",
    "\n",
    "solve sp using lp minimizing totalcost;\n"
   ]
  },
  {
   "cell_type": "code",
   "execution_count": null,
   "metadata": {},
   "outputs": [],
   "source": [
    "%gams_lst"
   ]
  },
  {
   "cell_type": "code",
   "execution_count": null,
   "metadata": {},
   "outputs": [],
   "source": [
    "%gams_lst"
   ]
  },
  {
   "cell_type": "code",
   "execution_count": null,
   "metadata": {},
   "outputs": [],
   "source": [
    "%gams display x.l, totalcost.l;\n",
    "%gams_lst -e"
   ]
  }
 ],
 "metadata": {
  "kernelspec": {
   "display_name": "Python 3",
   "language": "python",
   "name": "python3"
  },
  "language_info": {
   "codemirror_mode": {
    "name": "ipython",
    "version": 3
   },
   "file_extension": ".py",
   "mimetype": "text/x-python",
   "name": "python",
   "nbconvert_exporter": "python",
   "pygments_lexer": "ipython3",
   "version": "3.6.9"
  }
 },
 "nbformat": 4,
 "nbformat_minor": 2
}
