{
 "cells": [
  {
   "cell_type": "code",
   "execution_count": 1,
   "metadata": {},
   "outputs": [],
   "source": [
    "%load_ext gams_magic"
   ]
  },
  {
   "cell_type": "code",
   "execution_count": 2,
   "metadata": {},
   "outputs": [
    {
     "data": {
      "text/html": [
       "<div>\n",
       "<style scoped>\n",
       "    .dataframe tbody tr th:only-of-type {\n",
       "        vertical-align: middle;\n",
       "    }\n",
       "\n",
       "    .dataframe tbody tr th {\n",
       "        vertical-align: top;\n",
       "    }\n",
       "\n",
       "    .dataframe thead th {\n",
       "        text-align: right;\n",
       "    }\n",
       "</style>\n",
       "<table border=\"1\" class=\"dataframe\">\n",
       "  <thead>\n",
       "    <tr style=\"text-align: right;\">\n",
       "      <th></th>\n",
       "      <th>Solver Status</th>\n",
       "      <th>Model Status</th>\n",
       "      <th>Objective</th>\n",
       "      <th>#equ</th>\n",
       "      <th>#var</th>\n",
       "      <th>Model Type</th>\n",
       "      <th>Solver</th>\n",
       "      <th>Solver Time</th>\n",
       "    </tr>\n",
       "  </thead>\n",
       "  <tbody>\n",
       "    <tr>\n",
       "      <td>0</td>\n",
       "      <td>Normal (1)</td>\n",
       "      <td>Optimal Global (1)</td>\n",
       "      <td>470.0</td>\n",
       "      <td>8</td>\n",
       "      <td>7</td>\n",
       "      <td>LP</td>\n",
       "      <td>OSICPLEX</td>\n",
       "      <td>0</td>\n",
       "    </tr>\n",
       "  </tbody>\n",
       "</table>\n",
       "</div>"
      ],
      "text/plain": [
       "  Solver Status        Model Status  Objective #equ #var Model Type    Solver  \\\n",
       "0    Normal (1)  Optimal Global (1)      470.0    8    7         LP  OSICPLEX   \n",
       "\n",
       "  Solver Time  \n",
       "0           0  "
      ]
     },
     "execution_count": 2,
     "metadata": {},
     "output_type": "execute_result"
    }
   ],
   "source": [
    "%%gams\n",
    "\n",
    "set N /1*4/;  \n",
    "\n",
    "alias(N,j);\n",
    "\n",
    "set A(N,N) /1.2, 1.3, 2.3, 3.2, 2.4, 3.4/; \n",
    "\n",
    "parameters c(N, N)/1.2 5, 1.3 1, 2.3 1, 3.2 2, \n",
    "       2.4 10, 3.4 8/,\n",
    "       u(N, N)/1.2 30, 3.2 10, 3.4 20/,\n",
    "s(N)/1 10, 2 30, 3 10, 4 -50/;\n",
    "\n",
    "variables x(N,N), totalcost; \n",
    "positive variable x;\n",
    "\n",
    "equations balance(N),obj, upperbound12, upperbound32, upperbound34;\n",
    "\n",
    "obj.. totalcost =e= sum(A, c(A)*x(A));\n",
    "\n",
    "balance(N).. sum(j$A(N,j), x(N,j))  - sum(j$A(j,N), x(j,N)) =e= s(N);\n",
    "\n",
    "upperbound12.. x('1','2') =l= u('1','2'); \n",
    "upperbound32.. x('3','2') =l= u('3','2'); \n",
    "upperbound34.. x('3','4') =l= u('3','4'); \n",
    "\n",
    "model mcnfp /all/;\n",
    "solve mcnfp using lp minimizing totalcost;\n",
    "    \n",
    "    "
   ]
  },
  {
   "cell_type": "code",
   "execution_count": 3,
   "metadata": {},
   "outputs": [
    {
     "name": "stdout",
     "output_type": "stream",
     "text": [
      "E x e c u t i o n\n",
      "\n",
      "\n",
      "----     35 VARIABLE x.L  \n",
      "\n",
      "            3           4\n",
      "\n",
      "1      10.000\n",
      "2                  30.000\n",
      "3                  20.000\n",
      "\n",
      "\n",
      "----     35 VARIABLE totalcost.L           =      470.000  \n",
      "\n",
      "\n"
     ]
    }
   ],
   "source": [
    "%gams display x.l,totalcost.l\n",
    "%gams_lst -e"
   ]
  },
  {
   "cell_type": "code",
   "execution_count": null,
   "metadata": {},
   "outputs": [],
   "source": []
  }
 ],
 "metadata": {
  "kernelspec": {
   "display_name": "Python 3",
   "language": "python",
   "name": "python3"
  },
  "language_info": {
   "codemirror_mode": {
    "name": "ipython",
    "version": 3
   },
   "file_extension": ".py",
   "mimetype": "text/x-python",
   "name": "python",
   "nbconvert_exporter": "python",
   "pygments_lexer": "ipython3",
   "version": "3.6.9"
  }
 },
 "nbformat": 4,
 "nbformat_minor": 2
}
