{
 "cells": [
  {
   "cell_type": "markdown",
   "metadata": {},
   "source": [
    "HW8, Q1.\n",
    "\n",
    "Young MBA Erica Cudahy may invest up to 1000 dollars. She can invest her\n",
    "money in stocks and loans. Each dollar invested in stocks yields 10 cents of profit,\n",
    "and each dollar invested in a loan yields 15 cents of profit. At least 30%\n",
    "of all money invested must be in stocks, and at least 400 dollars must be in loans.\n",
    "Formulate an LP to maximize total profit earned from Erica's\n",
    "investment.\n",
    "\n",
    "Create a Jupyter notebook named _Erica.ipynb_. In the GAMS code, declare two positive variables, _stock_ and _loan_, to denote the amount of money to put in stock and loan respectively. Also declare a free variable called _profit_ to denote the total profit. Model and solve as an LP."
   ]
  },
  {
   "cell_type": "code",
   "execution_count": null,
   "metadata": {},
   "outputs": [],
   "source": [
    "%load_ext gams_magic"
   ]
  },
  {
   "cell_type": "code",
   "execution_count": null,
   "metadata": {},
   "outputs": [],
   "source": [
    "%%gams\n",
    "\n",
    "positive variables stock, loan; \n",
    "\n",
    "variable profit; \n",
    "\n",
    "equations totalbudget, \n",
    "obj, \n",
    "percentage \"at least 30% of all money invested must be in stocks \", \n",
    "loanbound \"at least 400 dollars must be in loans\";\n",
    "\n",
    "totalbudget.. stock + loan =l= 1000; \n",
    "\n",
    "obj.. profit =e= 0.1*stock + 0.15 * loan; \n",
    "\n",
    "percentage.. stock =g= 0.3*(stock+ loan);\n",
    "\n",
    "loanbound.. loan =g= 400; \n",
    "\n",
    "model ericaInvest /all/; \n",
    "\n",
    "solve ericaInvest using lp maximizing profit;\n",
    "\n"
   ]
  },
  {
   "cell_type": "code",
   "execution_count": null,
   "metadata": {},
   "outputs": [],
   "source": [
    "%gams display stock.l, loan.l, profit.l; \n",
    "%gams_lst -e"
   ]
  }
 ],
 "metadata": {
  "kernelspec": {
   "display_name": "Python 3",
   "language": "python",
   "name": "python3"
  },
  "language_info": {
   "codemirror_mode": {
    "name": "ipython",
    "version": 3
   },
   "file_extension": ".py",
   "mimetype": "text/x-python",
   "name": "python",
   "nbconvert_exporter": "python",
   "pygments_lexer": "ipython3",
   "version": "3.6.6"
  }
 },
 "nbformat": 4,
 "nbformat_minor": 2
}
