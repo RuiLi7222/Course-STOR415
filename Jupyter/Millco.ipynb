{
 "cells": [
  {
   "cell_type": "markdown",
   "metadata": {},
   "source": [
    "# Lumber transportation problem (J. Reeb and S. Leavengood)\n",
    "\n",
    "Millco has three wood mills and is planning three new logging sites. Each mill has a maximum capacity and each logging site can harvest a certain number of truckloads of lumber per day. The cost of a haul is \\$2/mile of distance. If distances from logging sites to mills are given below, how should the hauls be routed to minimize hauling costs while meeting all demands?\n",
    "\n",
    "| Logging Site | Mill A | Mill B | Mill C | Max loads per day |\n",
    "|:------------:|:------:|:------:|:------:|:-----------------:|\n",
    "| 1            |  8     |  15    |  50    |  20               |\n",
    "| 2            |  10    |  17    |  20    |  30               |\n",
    "| 3            |  30    |  26    |  15    |  45               |\n",
    "| Mill demand  |  30    |  35    |  30    |                   |"
   ]
  },
  {
   "cell_type": "code",
   "execution_count": 1,
   "metadata": {},
   "outputs": [],
   "source": [
    "%load_ext gams_magic"
   ]
  },
  {
   "cell_type": "code",
   "execution_count": 2,
   "metadata": {},
   "outputs": [],
   "source": [
    "%%capture\n",
    "%run ~/share/DataTransform.ipynb\n",
    "from IPython.display import display"
   ]
  },
  {
   "cell_type": "code",
   "execution_count": 3,
   "metadata": {},
   "outputs": [],
   "source": [
    "%%gams\n",
    "set sites 'sites', mills 'mills';\n",
    "parameter dist(sites<,mills<), supply(sites), demand(mills);\n",
    "scalar cost_per_haul;"
   ]
  },
  {
   "cell_type": "code",
   "execution_count": 4,
   "metadata": {},
   "outputs": [
    {
     "data": {
      "text/html": [
       "<div>\n",
       "<style scoped>\n",
       "    .dataframe tbody tr th:only-of-type {\n",
       "        vertical-align: middle;\n",
       "    }\n",
       "\n",
       "    .dataframe tbody tr th {\n",
       "        vertical-align: top;\n",
       "    }\n",
       "\n",
       "    .dataframe thead th {\n",
       "        text-align: right;\n",
       "    }\n",
       "</style>\n",
       "<table border=\"1\" class=\"dataframe\">\n",
       "  <thead>\n",
       "    <tr style=\"text-align: right;\">\n",
       "      <th></th>\n",
       "      <th>Mill A</th>\n",
       "      <th>Mill B</th>\n",
       "      <th>Mill C</th>\n",
       "    </tr>\n",
       "  </thead>\n",
       "  <tbody>\n",
       "    <tr>\n",
       "      <td>1</td>\n",
       "      <td>8</td>\n",
       "      <td>15</td>\n",
       "      <td>50</td>\n",
       "    </tr>\n",
       "    <tr>\n",
       "      <td>2</td>\n",
       "      <td>10</td>\n",
       "      <td>17</td>\n",
       "      <td>20</td>\n",
       "    </tr>\n",
       "    <tr>\n",
       "      <td>3</td>\n",
       "      <td>30</td>\n",
       "      <td>26</td>\n",
       "      <td>15</td>\n",
       "    </tr>\n",
       "  </tbody>\n",
       "</table>\n",
       "</div>"
      ],
      "text/plain": [
       "   Mill A  Mill B  Mill C\n",
       "1       8      15      50\n",
       "2      10      17      20\n",
       "3      30      26      15"
      ]
     },
     "metadata": {},
     "output_type": "display_data"
    }
   ],
   "source": [
    "# Python Data Input\n",
    "import pandas as pd\n",
    "sites = ['1', '2', '3']\n",
    "mills = ['Mill A','Mill B', 'Mill C']\n",
    "dist = pd.DataFrame(index=sites, columns=mills, data = [[8, 15, 50], [10, 17, 20], [30, 26, 15]])\n",
    "supply = list(zip(sites,[20,30,45]))\n",
    "demand = list(zip(mills,[30,35,30]))\n",
    "cost_per_haul = 4\n",
    "display(dist)\n",
    "dist = gt_from2dim(dist)"
   ]
  },
  {
   "cell_type": "code",
   "execution_count": 5,
   "metadata": {},
   "outputs": [
    {
     "name": "stdout",
     "output_type": "stream",
     "text": [
      "E x e c u t i o n\n",
      "\n",
      "\n",
      "----     19 PARAMETER dist  Domain loaded from dist position 2\n",
      "\n",
      "       Mill A      Mill B      Mill C\n",
      "\n",
      "1       8.000      15.000      50.000\n",
      "2      10.000      17.000      20.000\n",
      "3      30.000      26.000      15.000\n",
      "\n",
      "\n",
      "----     19 PARAMETER supply  \n",
      "\n",
      "1 20.000,    2 30.000,    3 45.000\n",
      "\n",
      "\n",
      "----     19 PARAMETER demand  \n",
      "\n",
      "Mill A 30.000,    Mill B 35.000,    Mill C 30.000\n",
      "\n",
      "\n",
      "----     19 PARAMETER cost_per_haul        =        4.000  \n",
      "\n",
      "\n",
      "\n"
     ]
    }
   ],
   "source": [
    "%gams_push dist supply demand cost_per_haul\n",
    "%gams display dist, supply, demand, cost_per_haul\n",
    "%gams_lst -e"
   ]
  },
  {
   "cell_type": "code",
   "execution_count": 6,
   "metadata": {},
   "outputs": [],
   "source": [
    "%%gams \n",
    "# GAMS Model\n",
    "alias (s,sites), (m,mills);\n",
    "Positive variable ship(sites,mills);\n",
    "Variable obj;\n",
    "\n",
    "Equation defcost;   defcost.. obj =e= cost_per_haul*sum((s,m), ship(s,m)*dist(s,m));\n",
    "Equation defsupply; defsupply(s).. sum(m, ship(s,m)) =e= supply(s);\n",
    "Equation defdemand; defdemand(m).. sum(s, ship(s,m)) =e= demand(m);\n",
    "\n",
    "model millco / all /;"
   ]
  },
  {
   "cell_type": "code",
   "execution_count": 7,
   "metadata": {},
   "outputs": [
    {
     "data": {
      "text/html": [
       "<div>\n",
       "<style scoped>\n",
       "    .dataframe tbody tr th:only-of-type {\n",
       "        vertical-align: middle;\n",
       "    }\n",
       "\n",
       "    .dataframe tbody tr th {\n",
       "        vertical-align: top;\n",
       "    }\n",
       "\n",
       "    .dataframe thead th {\n",
       "        text-align: right;\n",
       "    }\n",
       "</style>\n",
       "<table border=\"1\" class=\"dataframe\">\n",
       "  <thead>\n",
       "    <tr style=\"text-align: right;\">\n",
       "      <th></th>\n",
       "      <th>Solver Status</th>\n",
       "      <th>Model Status</th>\n",
       "      <th>Objective</th>\n",
       "      <th>#equ</th>\n",
       "      <th>#var</th>\n",
       "      <th>Model Type</th>\n",
       "      <th>Solver</th>\n",
       "      <th>Solver Time</th>\n",
       "    </tr>\n",
       "  </thead>\n",
       "  <tbody>\n",
       "    <tr>\n",
       "      <td>0</td>\n",
       "      <td>Normal (1)</td>\n",
       "      <td>Optimal Global (1)</td>\n",
       "      <td>5760.0</td>\n",
       "      <td>7</td>\n",
       "      <td>10</td>\n",
       "      <td>LP</td>\n",
       "      <td>CPLEX</td>\n",
       "      <td>0.03</td>\n",
       "    </tr>\n",
       "  </tbody>\n",
       "</table>\n",
       "</div>"
      ],
      "text/plain": [
       "  Solver Status        Model Status  Objective #equ #var Model Type Solver  \\\n",
       "0    Normal (1)  Optimal Global (1)     5760.0    7   10         LP  CPLEX   \n",
       "\n",
       "  Solver Time  \n",
       "0        0.03  "
      ]
     },
     "execution_count": 7,
     "metadata": {},
     "output_type": "execute_result"
    }
   ],
   "source": [
    "%gams solve millco min obj using lp;"
   ]
  },
  {
   "cell_type": "code",
   "execution_count": 8,
   "metadata": {},
   "outputs": [
    {
     "data": {
      "text/html": [
       "<div>\n",
       "<style scoped>\n",
       "    .dataframe tbody tr th:only-of-type {\n",
       "        vertical-align: middle;\n",
       "    }\n",
       "\n",
       "    .dataframe tbody tr th {\n",
       "        vertical-align: top;\n",
       "    }\n",
       "\n",
       "    .dataframe thead th {\n",
       "        text-align: right;\n",
       "    }\n",
       "</style>\n",
       "<table border=\"1\" class=\"dataframe\">\n",
       "  <thead>\n",
       "    <tr style=\"text-align: right;\">\n",
       "      <th></th>\n",
       "      <th>Mill A</th>\n",
       "      <th>Mill B</th>\n",
       "      <th>Mill C</th>\n",
       "    </tr>\n",
       "  </thead>\n",
       "  <tbody>\n",
       "    <tr>\n",
       "      <td>1</td>\n",
       "      <td>0.0</td>\n",
       "      <td>20.0</td>\n",
       "      <td>0.0</td>\n",
       "    </tr>\n",
       "    <tr>\n",
       "      <td>2</td>\n",
       "      <td>30.0</td>\n",
       "      <td>0.0</td>\n",
       "      <td>0.0</td>\n",
       "    </tr>\n",
       "    <tr>\n",
       "      <td>3</td>\n",
       "      <td>0.0</td>\n",
       "      <td>15.0</td>\n",
       "      <td>30.0</td>\n",
       "    </tr>\n",
       "  </tbody>\n",
       "</table>\n",
       "</div>"
      ],
      "text/plain": [
       "   Mill A  Mill B  Mill C\n",
       "1     0.0    20.0     0.0\n",
       "2    30.0     0.0     0.0\n",
       "3     0.0    15.0    30.0"
      ]
     },
     "metadata": {},
     "output_type": "display_data"
    },
    {
     "name": "stdout",
     "output_type": "stream",
     "text": [
      "Total cost will be 5760.0\n"
     ]
    }
   ],
   "source": [
    "%gams_pull -d ship obj\n",
    "display(gt_pivot2d(ship))\n",
    "print('Total cost will be ' + str(obj['level'][0]))"
   ]
  },
  {
   "cell_type": "code",
   "execution_count": 9,
   "metadata": {},
   "outputs": [],
   "source": [
    "%gams_cleanup\n",
    "%gams_reset\n",
    "import numpy as np\n",
    "A = np.array([[ 1, 1, 1, 0, 0, 0, 0, 0, 0],\n",
    "              [ 0, 0, 0, 1, 1, 1, 0, 0, 0],\n",
    "              [ 0, 0, 0, 0, 0, 0, 1, 1, 1],\n",
    "              [ 1, 0, 0, 1, 0, 0, 1, 0, 0],\n",
    "              [ 0, 1, 0, 0, 1, 0, 0, 1, 0],\n",
    "              [ 0, 0, 1, 0, 0, 1, 0, 0, 1]\n",
    "             ])\n",
    "b = np.array([ 20, 30, 45, 30, 35, 30])\n",
    "c = np.array([ 8, 15, 50, 10, 17, 20, 30, 26, 15])"
   ]
  },
  {
   "cell_type": "code",
   "execution_count": 10,
   "metadata": {},
   "outputs": [],
   "source": [
    "%%gams\n",
    "set i,j;\n",
    "parameter A(i,j), b(i), c(j);\n",
    "\n",
    "Positive Variable x(j);\n",
    "Variable obj;\n",
    "\n",
    "Equation defobj; defobj.. obj =e= 4*sum(j, c(j)*x(j));\n",
    "Equation e(i);   e(i)..   sum(j, A(i,j)*x(j)) =e= b(i);\n",
    "\n",
    "model gen / all /;"
   ]
  },
  {
   "cell_type": "code",
   "execution_count": 11,
   "metadata": {},
   "outputs": [
    {
     "data": {
      "text/html": [
       "<div>\n",
       "<style scoped>\n",
       "    .dataframe tbody tr th:only-of-type {\n",
       "        vertical-align: middle;\n",
       "    }\n",
       "\n",
       "    .dataframe tbody tr th {\n",
       "        vertical-align: top;\n",
       "    }\n",
       "\n",
       "    .dataframe thead th {\n",
       "        text-align: right;\n",
       "    }\n",
       "</style>\n",
       "<table border=\"1\" class=\"dataframe\">\n",
       "  <thead>\n",
       "    <tr style=\"text-align: right;\">\n",
       "      <th></th>\n",
       "      <th>Solver Status</th>\n",
       "      <th>Model Status</th>\n",
       "      <th>Objective</th>\n",
       "      <th>#equ</th>\n",
       "      <th>#var</th>\n",
       "      <th>Model Type</th>\n",
       "      <th>Solver</th>\n",
       "      <th>Solver Time</th>\n",
       "    </tr>\n",
       "  </thead>\n",
       "  <tbody>\n",
       "    <tr>\n",
       "      <td>0</td>\n",
       "      <td>Normal (1)</td>\n",
       "      <td>Optimal Global (1)</td>\n",
       "      <td>5760.0</td>\n",
       "      <td>7</td>\n",
       "      <td>10</td>\n",
       "      <td>LP</td>\n",
       "      <td>CPLEX</td>\n",
       "      <td>0.009</td>\n",
       "    </tr>\n",
       "  </tbody>\n",
       "</table>\n",
       "</div>"
      ],
      "text/plain": [
       "  Solver Status        Model Status  Objective #equ #var Model Type Solver  \\\n",
       "0    Normal (1)  Optimal Global (1)     5760.0    7   10         LP  CPLEX   \n",
       "\n",
       "  Solver Time  \n",
       "0       0.009  "
      ]
     },
     "execution_count": 11,
     "metadata": {},
     "output_type": "execute_result"
    }
   ],
   "source": [
    "%gams_push A b c\n",
    "%gams solve gen min obj using lp;"
   ]
  },
  {
   "cell_type": "code",
   "execution_count": 12,
   "metadata": {},
   "outputs": [
    {
     "data": {
      "text/plain": [
       "array([[ 0., 20.,  0.],\n",
       "       [30.,  0.,  0.],\n",
       "       [ 0., 15., 30.]])"
      ]
     },
     "metadata": {},
     "output_type": "display_data"
    },
    {
     "name": "stdout",
     "output_type": "stream",
     "text": [
      "Total cost will be 5760.0\n"
     ]
    }
   ],
   "source": [
    "# idx interface allows only parameters to be comminicated\n",
    "%gams Parameter xl(j), objl; xl(j) = x.l(j); objl = obj.l;\n",
    "%gams_pull -n xl objl\n",
    "display(xl.reshape(3,3))\n",
    "print('Total cost will be ' + str(objl))"
   ]
  }
 ],
 "metadata": {
  "kernelspec": {
   "display_name": "Python 3",
   "language": "python",
   "name": "python3"
  },
  "language_info": {
   "codemirror_mode": {
    "name": "ipython",
    "version": 3
   },
   "file_extension": ".py",
   "mimetype": "text/x-python",
   "name": "python",
   "nbconvert_exporter": "python",
   "pygments_lexer": "ipython3",
   "version": "3.6.9"
  }
 },
 "nbformat": 4,
 "nbformat_minor": 1
}
