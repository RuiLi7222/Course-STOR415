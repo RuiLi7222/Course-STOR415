{
 "cells": [
  {
   "cell_type": "code",
   "execution_count": 6,
   "metadata": {},
   "outputs": [
    {
     "name": "stdout",
     "output_type": "stream",
     "text": [
      "The gams_magic extension is already loaded. To reload it, use:\n",
      "  %reload_ext gams_magic\n"
     ]
    }
   ],
   "source": [
    "%load_ext gams_magic"
   ]
  },
  {
   "cell_type": "code",
   "execution_count": 7,
   "metadata": {
    "scrolled": true
   },
   "outputs": [
    {
     "data": {
      "text/html": [
       "<div>\n",
       "<style scoped>\n",
       "    .dataframe tbody tr th:only-of-type {\n",
       "        vertical-align: middle;\n",
       "    }\n",
       "\n",
       "    .dataframe tbody tr th {\n",
       "        vertical-align: top;\n",
       "    }\n",
       "\n",
       "    .dataframe thead th {\n",
       "        text-align: right;\n",
       "    }\n",
       "</style>\n",
       "<table border=\"1\" class=\"dataframe\">\n",
       "  <thead>\n",
       "    <tr style=\"text-align: right;\">\n",
       "      <th></th>\n",
       "      <th>Solver Status</th>\n",
       "      <th>Model Status</th>\n",
       "      <th>Objective</th>\n",
       "      <th>#equ</th>\n",
       "      <th>#var</th>\n",
       "      <th>Model Type</th>\n",
       "      <th>Solver</th>\n",
       "      <th>Solver Time</th>\n",
       "    </tr>\n",
       "  </thead>\n",
       "  <tbody>\n",
       "    <tr>\n",
       "      <td>0</td>\n",
       "      <td>Normal (1)</td>\n",
       "      <td>Optimal Global (1)</td>\n",
       "      <td>4950.0</td>\n",
       "      <td>8</td>\n",
       "      <td>13</td>\n",
       "      <td>LP</td>\n",
       "      <td>OSICPLEX</td>\n",
       "      <td>0</td>\n",
       "    </tr>\n",
       "  </tbody>\n",
       "</table>\n",
       "</div>"
      ],
      "text/plain": [
       "  Solver Status        Model Status  Objective #equ #var Model Type    Solver  \\\n",
       "0    Normal (1)  Optimal Global (1)     4950.0    8   13         LP  OSICPLEX   \n",
       "\n",
       "  Solver Time  \n",
       "0           0  "
      ]
     },
     "execution_count": 7,
     "metadata": {},
     "output_type": "execute_result"
    }
   ],
   "source": [
    "%%gams\n",
    "\n",
    "# Set Declaration\n",
    "\n",
    "Sets \n",
    "        i   \"warehouses\"   / w1*w4 /\n",
    "        j   \"customers\"    / c1*c3 / ;\n",
    "\n",
    "# Scalars and Parameters\n",
    "Parameters\n",
    "    s(i)   \"supply capacity of warehouse i\"\n",
    "          / w1 30\n",
    "            w2 30\n",
    "            w3 30\n",
    "            w4 40/\n",
    "            \n",
    "    d(j)   \"demand at customer j\"\n",
    "          / c1 40\n",
    "            c2 50\n",
    "            c3 40 / ;\n",
    "    \n",
    "            \n",
    "table c(i,j)  \"unit shipping cost\"\n",
    "              c1       c2      c3  \n",
    "    w1        15       35      25  \n",
    "    w2        10       50      40   \n",
    "    w3        20       40      30\n",
    "    w4        70       75      65;\n",
    "    \n",
    "# Variable Declaration\n",
    "Variables \n",
    "    x(i,j)\n",
    "    z        \"total transportation costs\";\n",
    "    \n",
    "Positive Variable x ;\n",
    "\n",
    "# Equation Declaration\n",
    "Equations\n",
    "    cost        define objective function\n",
    "    supply(i)   observe supply limit at warehouse i\n",
    "    demand(j)   satisfy demand at customer j ;\n",
    "\n",
    "#equation definition\n",
    "cost ..   z  =e=  sum((i,j), c(i,j)*x(i,j)) ;\n",
    "\n",
    "supply(i) ..   sum(j, x(i,j))  =e=  s(i) ;\n",
    "\n",
    "demand(j) ..   sum(i, x(i,j))  =e=  d(j) ;\n",
    "\n",
    "# model and solve\n",
    "Model transport /all/ ;\n",
    "  \n",
    "#GAMS option limrow specifies the number of equations to include in GAMS listing file\n",
    "option limrow = 3;\n",
    "\n",
    "#GAMS option solprint on/off: whether to not to include the solution report part in the listing file\n",
    "option solprint = on;\n",
    "\n",
    "Solve transport using lp minimizing z ;\n",
    "\n",
    "            "
   ]
  },
  {
   "cell_type": "code",
   "execution_count": 8,
   "metadata": {},
   "outputs": [
    {
     "name": "stdout",
     "output_type": "stream",
     "text": [
      "E x e c u t i o n\n",
      "\n",
      "\n",
      "----     66 VARIABLE x.L  \n",
      "\n",
      "            c1          c2          c3\n",
      "\n",
      "w1                  30.000\n",
      "w2      30.000\n",
      "w3      10.000      20.000\n",
      "w4                              40.000\n",
      "\n",
      "\n",
      "----     66 VARIABLE z.L                   =     4950.000  total transportation costs\n",
      "\n",
      "\n"
     ]
    }
   ],
   "source": [
    "%gams display x.l, z.l\n",
    "%gams_lst -e"
   ]
  },
  {
   "cell_type": "code",
   "execution_count": 9,
   "metadata": {},
   "outputs": [],
   "source": [
    "%gams_cleanup"
   ]
  },
  {
   "cell_type": "code",
   "execution_count": 10,
   "metadata": {},
   "outputs": [],
   "source": [
    "%gams_reset"
   ]
  }
 ],
 "metadata": {
  "kernelspec": {
   "display_name": "Python 3",
   "language": "python",
   "name": "python3"
  },
  "language_info": {
   "codemirror_mode": {
    "name": "ipython",
    "version": 3
   },
   "file_extension": ".py",
   "mimetype": "text/x-python",
   "name": "python",
   "nbconvert_exporter": "python",
   "pygments_lexer": "ipython3",
   "version": "3.6.9"
  }
 },
 "nbformat": 4,
 "nbformat_minor": 2
}
