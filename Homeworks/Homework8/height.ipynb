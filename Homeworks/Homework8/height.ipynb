{
 "cells": [
  {
   "cell_type": "code",
   "execution_count": 7,
   "metadata": {},
   "outputs": [
    {
     "name": "stdout",
     "output_type": "stream",
     "text": [
      "The gams_magic extension is already loaded. To reload it, use:\n",
      "  %reload_ext gams_magic\n"
     ]
    }
   ],
   "source": [
    "%load_ext gams_magic"
   ]
  },
  {
   "cell_type": "code",
   "execution_count": 8,
   "metadata": {},
   "outputs": [
    {
     "data": {
      "text/html": [
       "<div>\n",
       "<style scoped>\n",
       "    .dataframe tbody tr th:only-of-type {\n",
       "        vertical-align: middle;\n",
       "    }\n",
       "\n",
       "    .dataframe tbody tr th {\n",
       "        vertical-align: top;\n",
       "    }\n",
       "\n",
       "    .dataframe thead th {\n",
       "        text-align: right;\n",
       "    }\n",
       "</style>\n",
       "<table border=\"1\" class=\"dataframe\">\n",
       "  <thead>\n",
       "    <tr style=\"text-align: right;\">\n",
       "      <th></th>\n",
       "      <th>Solver Status</th>\n",
       "      <th>Model Status</th>\n",
       "      <th>Objective</th>\n",
       "      <th>#equ</th>\n",
       "      <th>#var</th>\n",
       "      <th>Model Type</th>\n",
       "      <th>Solver</th>\n",
       "      <th>Solver Time</th>\n",
       "    </tr>\n",
       "  </thead>\n",
       "  <tbody>\n",
       "    <tr>\n",
       "      <td>0</td>\n",
       "      <td>Normal (1)</td>\n",
       "      <td>Optimal Global (1)</td>\n",
       "      <td>6.0</td>\n",
       "      <td>15</td>\n",
       "      <td>50</td>\n",
       "      <td>LP</td>\n",
       "      <td>OSICPLEX</td>\n",
       "      <td>0</td>\n",
       "    </tr>\n",
       "  </tbody>\n",
       "</table>\n",
       "</div>"
      ],
      "text/plain": [
       "  Solver Status        Model Status  Objective #equ #var Model Type    Solver  \\\n",
       "0    Normal (1)  Optimal Global (1)        6.0   15   50         LP  OSICPLEX   \n",
       "\n",
       "  Solver Time  \n",
       "0           0  "
      ]
     },
     "execution_count": 8,
     "metadata": {},
     "output_type": "execute_result"
    }
   ],
   "source": [
    "%%gams\n",
    "\n",
    "# Set Declaration\n",
    "\n",
    "Sets \n",
    "        i   \"20-years old\"   / p1*p7 /\n",
    "        j   \"30-years old\"    / q1*q7 / ;\n",
    "\n",
    "# Scalars and Parameters\n",
    "Parameters\n",
    "    s(i)   \"percentage of 20-years old i\"\n",
    "          / p1 4\n",
    "            p2 8\n",
    "            p3 22\n",
    "            p4 25\n",
    "            p5 21\n",
    "            p6 14\n",
    "            p7 6  /\n",
    "            \n",
    "    d(j)   \"percentage of 30-years old j\"\n",
    "          / q1 4\n",
    "            q2 9\n",
    "            q3 19\n",
    "            q4 26\n",
    "            q5 20\n",
    "            q6 16\n",
    "            q7 6  / \n",
    "    \n",
    "table c(i,j)  \"distance between ith and jth intervals\"\n",
    "              q1  q2  q3  q4  q5  q6  q7\n",
    "    p1        0   1   2   3   4   5   6\n",
    "    p2        1   0   1   2   3   4   5\n",
    "    p3        2   1   0   1   2   3   4\n",
    "    p4        3   2   1   0   1   2   3\n",
    "    p5        4   3   2   1   0   1   2\n",
    "    p6        5   4   3   2   1   0   1\n",
    "    p7        6   5   4   3   2   1   0;\n",
    "    \n",
    "# Variable Declaration\n",
    "Variables \n",
    "    x(i,j)\n",
    "    z        \"total transportation costs\"\n",
    "    \n",
    "Positive Variable x ;\n",
    "\n",
    "# Equation Declaration\n",
    "Equations\n",
    "    cost        define objective function\n",
    "    supply(i)   twenty years old limit at i\n",
    "    demand(j)   thirth years old demand at j ;\n",
    "\n",
    "#equation definition\n",
    "cost ..   z  =e=  sum((i,j), c(i,j)*x(i,j)) ;\n",
    "\n",
    "supply(i) ..   sum(j, x(i,j))  =e=  s(i) ;\n",
    "\n",
    "demand(j) ..   sum(i, x(i,j))  =e=  d(j) ;\n",
    "\n",
    "# model and solve\n",
    "Model transport /all/ ;\n",
    "  \n",
    "#GAMS option limrow specifies the number of equations to include in GAMS listing file\n",
    "option limrow = 3;\n",
    "\n",
    "#GAMS option solprint on/off: whether to not to include the solution report part in the listing file\n",
    "option solprint = on;\n",
    "\n",
    "Solve transport using lp minimizing z ;\n",
    "\n",
    "            "
   ]
  },
  {
   "cell_type": "code",
   "execution_count": 9,
   "metadata": {},
   "outputs": [
    {
     "name": "stdout",
     "output_type": "stream",
     "text": [
      "E x e c u t i o n\n",
      "\n",
      "\n",
      "----     75 VARIABLE x.L  \n",
      "\n",
      "            q1          q2          q3          q4          q5          q6          q7\n",
      "\n",
      "p1       4.000\n",
      "p2                   8.000\n",
      "p3                   1.000      19.000       1.000       1.000\n",
      "p4                                          25.000\n",
      "p5                                                      19.000       2.000\n",
      "p6                                                                  14.000\n",
      "p7                                                                               6.000\n",
      "\n",
      "\n",
      "----     75 VARIABLE z.L                   =        6.000  total transportation costs\n",
      "\n",
      "\n"
     ]
    }
   ],
   "source": [
    "%gams display x.l, z.l\n",
    "%gams_lst -e"
   ]
  },
  {
   "cell_type": "code",
   "execution_count": 10,
   "metadata": {},
   "outputs": [],
   "source": [
    "%gams_cleanup"
   ]
  },
  {
   "cell_type": "code",
   "execution_count": 11,
   "metadata": {},
   "outputs": [],
   "source": [
    "%gams_reset"
   ]
  }
 ],
 "metadata": {
  "kernelspec": {
   "display_name": "Python 3",
   "language": "python",
   "name": "python3"
  },
  "language_info": {
   "codemirror_mode": {
    "name": "ipython",
    "version": 3
   },
   "file_extension": ".py",
   "mimetype": "text/x-python",
   "name": "python",
   "nbconvert_exporter": "python",
   "pygments_lexer": "ipython3",
   "version": "3.6.9"
  }
 },
 "nbformat": 4,
 "nbformat_minor": 2
}
