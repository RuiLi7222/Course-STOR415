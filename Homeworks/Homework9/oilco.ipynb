{
 "cells": [
  {
   "cell_type": "code",
   "execution_count": 2,
   "metadata": {},
   "outputs": [
    {
     "name": "stdout",
     "output_type": "stream",
     "text": [
      "The gams_magic extension is already loaded. To reload it, use:\n",
      "  %reload_ext gams_magic\n"
     ]
    }
   ],
   "source": [
    "%load_ext gams_magic"
   ]
  },
  {
   "cell_type": "code",
   "execution_count": 24,
   "metadata": {},
   "outputs": [
    {
     "data": {
      "text/html": [
       "<div>\n",
       "<style scoped>\n",
       "    .dataframe tbody tr th:only-of-type {\n",
       "        vertical-align: middle;\n",
       "    }\n",
       "\n",
       "    .dataframe tbody tr th {\n",
       "        vertical-align: top;\n",
       "    }\n",
       "\n",
       "    .dataframe thead th {\n",
       "        text-align: right;\n",
       "    }\n",
       "</style>\n",
       "<table border=\"1\" class=\"dataframe\">\n",
       "  <thead>\n",
       "    <tr style=\"text-align: right;\">\n",
       "      <th></th>\n",
       "      <th>Solver Status</th>\n",
       "      <th>Model Status</th>\n",
       "      <th>Objective</th>\n",
       "      <th>#equ</th>\n",
       "      <th>#var</th>\n",
       "      <th>Model Type</th>\n",
       "      <th>Solver</th>\n",
       "      <th>Solver Time</th>\n",
       "    </tr>\n",
       "  </thead>\n",
       "  <tbody>\n",
       "    <tr>\n",
       "      <td>0</td>\n",
       "      <td>Normal (1)</td>\n",
       "      <td>Optimal Global (1)</td>\n",
       "      <td>10470.0</td>\n",
       "      <td>8</td>\n",
       "      <td>11</td>\n",
       "      <td>LP</td>\n",
       "      <td>CPLEX</td>\n",
       "      <td>0.023</td>\n",
       "    </tr>\n",
       "  </tbody>\n",
       "</table>\n",
       "</div>"
      ],
      "text/plain": [
       "  Solver Status        Model Status  Objective #equ #var Model Type Solver  \\\n",
       "0    Normal (1)  Optimal Global (1)    10470.0    8   11         LP  CPLEX   \n",
       "\n",
       "  Solver Time  \n",
       "0       0.023  "
      ]
     },
     "execution_count": 24,
     "metadata": {},
     "output_type": "execute_result"
    }
   ],
   "source": [
    "%%gams\n",
    "\n",
    "set N /1*7/;  \n",
    "\n",
    "alias(N,j);\n",
    "\n",
    "set A(N,N) /1.3, 1.4, 2.3, 2.4, 3.5, 3.6, 4.5, 4.6, 1.7, 2.7/; \n",
    "\n",
    "parameters c(N, N)/1.3 1000, 1.4 1010, 2.3 1120, 2.4 1000, 3.5 450, 3.6 550, 4.5 470, 4.6 530/,\n",
    "u(N, N)/1.3 5, 1.4 5, 2.3 5, 2.4 5, 3.5 5, 3.6 5, 4.5 5, 4.6 5, 1.7 5, 2.7 5/,\n",
    "s(N)/1 4, 2 5, 5 -3, 6 -4, 7 -2/;\n",
    "\n",
    "variables x(N,N), totalcost; \n",
    "positive variable x;\n",
    "\n",
    "equations balance(N),obj;\n",
    "\n",
    "obj.. totalcost =e= sum(A, c(A)*x(A));\n",
    "\n",
    "balance(N).. sum(j$A(N,j), x(N,j))  - sum(j$A(j,N), x(j,N)) =e= s(N);\n",
    "\n",
    "x.up(A)=u(A)\n",
    "\n",
    "model mcnfp /all/;\n",
    "solve mcnfp using lp minimizing totalcost;\n",
    "    \n",
    "    "
   ]
  },
  {
   "cell_type": "code",
   "execution_count": 26,
   "metadata": {},
   "outputs": [
    {
     "name": "stdout",
     "output_type": "stream",
     "text": [
      "E x e c u t i o n\n",
      "\n",
      "\n",
      "----    417 VARIABLE x.L  \n",
      "\n",
      "            2           3           4           5           6           7\n",
      "\n",
      "1     200.000       3.000                             100.000       1.000\n",
      "2                               4.000                               1.000\n",
      "3                             100.000       3.000\n",
      "4                                                       4.000       2.000\n",
      "5     100.000                 200.000\n",
      "6                 100.000\n",
      "\n",
      "\n",
      "----    417 VARIABLE totalcost.L           =    10470.000  \n",
      "\n",
      "\n"
     ]
    }
   ],
   "source": [
    "%gams display x.l,totalcost.l\n",
    "%gams_lst -e"
   ]
  }
 ],
 "metadata": {
  "kernelspec": {
   "display_name": "Python 3",
   "language": "python",
   "name": "python3"
  },
  "language_info": {
   "codemirror_mode": {
    "name": "ipython",
    "version": 3
   },
   "file_extension": ".py",
   "mimetype": "text/x-python",
   "name": "python",
   "nbconvert_exporter": "python",
   "pygments_lexer": "ipython3",
   "version": "3.6.9"
  }
 },
 "nbformat": 4,
 "nbformat_minor": 2
}
