{
 "cells": [
  {
   "cell_type": "code",
   "execution_count": 2,
   "metadata": {},
   "outputs": [],
   "source": [
    "%load_ext gams_magic"
   ]
  },
  {
   "cell_type": "code",
   "execution_count": 3,
   "metadata": {},
   "outputs": [
    {
     "data": {
      "text/html": [
       "<div>\n",
       "<style scoped>\n",
       "    .dataframe tbody tr th:only-of-type {\n",
       "        vertical-align: middle;\n",
       "    }\n",
       "\n",
       "    .dataframe tbody tr th {\n",
       "        vertical-align: top;\n",
       "    }\n",
       "\n",
       "    .dataframe thead th {\n",
       "        text-align: right;\n",
       "    }\n",
       "</style>\n",
       "<table border=\"1\" class=\"dataframe\">\n",
       "  <thead>\n",
       "    <tr style=\"text-align: right;\">\n",
       "      <th></th>\n",
       "      <th>Solver Status</th>\n",
       "      <th>Model Status</th>\n",
       "      <th>Objective</th>\n",
       "      <th>#equ</th>\n",
       "      <th>#var</th>\n",
       "      <th>Model Type</th>\n",
       "      <th>Solver</th>\n",
       "      <th>Solver Time</th>\n",
       "    </tr>\n",
       "  </thead>\n",
       "  <tbody>\n",
       "    <tr>\n",
       "      <td>0</td>\n",
       "      <td>Normal (1)</td>\n",
       "      <td>Optimal Global (1)</td>\n",
       "      <td>118000.0</td>\n",
       "      <td>6</td>\n",
       "      <td>9</td>\n",
       "      <td>LP</td>\n",
       "      <td>OSICPLEX</td>\n",
       "      <td>0</td>\n",
       "    </tr>\n",
       "  </tbody>\n",
       "</table>\n",
       "</div>"
      ],
      "text/plain": [
       "  Solver Status        Model Status  Objective #equ #var Model Type    Solver  \\\n",
       "0    Normal (1)  Optimal Global (1)   118000.0    6    9         LP  OSICPLEX   \n",
       "\n",
       "  Solver Time  \n",
       "0           0  "
      ]
     },
     "execution_count": 3,
     "metadata": {},
     "output_type": "execute_result"
    }
   ],
   "source": [
    "%%gams\n",
    "\n",
    "set N /1*5/;  \n",
    "\n",
    "alias(N,j);\n",
    "\n",
    "set A(N,N) /1.2, 1.3, 1.4, 3.2, 3.4, 5.2, 5.3, 5.4/; \n",
    "\n",
    "parameters c(N, N)/1.2 220, 1.3 80, 1.4 280, 3.2 40, 3.4 50, 5.2 140, 5.3 100, 5.4 170/,\n",
    "u(N, N)/1.2 200, 1.3 200, 1.4 200, 3.2 200, 3.4 200, 5.2 200, 5.3 200, 5.4 200/,\n",
    "s(N)/1 400, 2 -300, 4 -400, 5 300/;\n",
    "\n",
    "variables x(N,N), totalcost; \n",
    "positive variable x;\n",
    "\n",
    "equations balance(N),obj;\n",
    "\n",
    "obj.. totalcost =e= sum(A, c(A)*x(A));\n",
    "\n",
    "balance(N).. sum(j$A(N,j), x(N,j))  - sum(j$A(j,N), x(j,N)) =e= s(N);\n",
    "\n",
    "x.up(A) = u(A);\n",
    "\n",
    "model mcnfp /all/;\n",
    "solve mcnfp using lp minimizing totalcost;\n",
    "    \n",
    "    "
   ]
  },
  {
   "cell_type": "code",
   "execution_count": 4,
   "metadata": {},
   "outputs": [
    {
     "name": "stdout",
     "output_type": "stream",
     "text": [
      "E x e c u t i o n\n",
      "\n",
      "\n",
      "----     32 VARIABLE x.L  \n",
      "\n",
      "            2           3           4\n",
      "\n",
      "1     200.000     200.000\n",
      "3     100.000                 200.000\n",
      "5                 100.000     200.000\n",
      "\n",
      "\n",
      "----     32 VARIABLE totalcost.L           =   118000.000  \n",
      "\n",
      "\n"
     ]
    }
   ],
   "source": [
    "%gams display x.l,totalcost.l\n",
    "%gams_lst -e"
   ]
  },
  {
   "cell_type": "code",
   "execution_count": 5,
   "metadata": {},
   "outputs": [],
   "source": [
    "%gams_reset"
   ]
  },
  {
   "cell_type": "code",
   "execution_count": 7,
   "metadata": {},
   "outputs": [
    {
     "data": {
      "text/html": [
       "<div>\n",
       "<style scoped>\n",
       "    .dataframe tbody tr th:only-of-type {\n",
       "        vertical-align: middle;\n",
       "    }\n",
       "\n",
       "    .dataframe tbody tr th {\n",
       "        vertical-align: top;\n",
       "    }\n",
       "\n",
       "    .dataframe thead th {\n",
       "        text-align: right;\n",
       "    }\n",
       "</style>\n",
       "<table border=\"1\" class=\"dataframe\">\n",
       "  <thead>\n",
       "    <tr style=\"text-align: right;\">\n",
       "      <th></th>\n",
       "      <th>Solver Status</th>\n",
       "      <th>Model Status</th>\n",
       "      <th>Objective</th>\n",
       "      <th>#equ</th>\n",
       "      <th>#var</th>\n",
       "      <th>Model Type</th>\n",
       "      <th>Solver</th>\n",
       "      <th>Solver Time</th>\n",
       "    </tr>\n",
       "  </thead>\n",
       "  <tbody>\n",
       "    <tr>\n",
       "      <td>0</td>\n",
       "      <td>Normal (1)</td>\n",
       "      <td>Optimal Global (1)</td>\n",
       "      <td>133000.0</td>\n",
       "      <td>7</td>\n",
       "      <td>10</td>\n",
       "      <td>LP</td>\n",
       "      <td>OSICPLEX</td>\n",
       "      <td>0.001</td>\n",
       "    </tr>\n",
       "  </tbody>\n",
       "</table>\n",
       "</div>"
      ],
      "text/plain": [
       "  Solver Status        Model Status  Objective #equ #var Model Type    Solver  \\\n",
       "0    Normal (1)  Optimal Global (1)   133000.0    7   10         LP  OSICPLEX   \n",
       "\n",
       "  Solver Time  \n",
       "0       0.001  "
      ]
     },
     "execution_count": 7,
     "metadata": {},
     "output_type": "execute_result"
    }
   ],
   "source": [
    "%%gams\n",
    "\n",
    "set N /1*6/;  \n",
    "\n",
    "alias(N,j);\n",
    "\n",
    "set A(N,N) /1.2, 1.6, 1.4, 3.2, 3.4, 5.2, 5.6, 5.4, 6.3/; \n",
    "\n",
    "parameters c(N, N)/1.2 220, 1.6 80, 1.4 280, 3.2 40, 3.4 50, 5.2 140, 5.6 100, 5.4 170, 6.3 0/,\n",
    "u(N, N)/1.2 200, 1.6 200, 1.4 200, 3.2 200, 3.4 200, 5.2 200, 5.6 200, 5.4 200, 6.3 100/,\n",
    "s(N)/1 400, 2 -300, 4 -400, 5 300/;\n",
    "\n",
    "variables x(N,N), totalcost; \n",
    "positive variable x;\n",
    "\n",
    "equations balance(N),obj;\n",
    "\n",
    "obj.. totalcost =e= sum(A, c(A)*x(A));\n",
    "\n",
    "balance(N).. sum(j$A(N,j), x(N,j))  - sum(j$A(j,N), x(j,N)) =e= s(N);\n",
    "\n",
    "x.up(A) = u(A);\n",
    "\n",
    "model mcnfp /all/;\n",
    "solve mcnfp using lp minimizing totalcost;\n",
    "    \n",
    "    "
   ]
  },
  {
   "cell_type": "code",
   "execution_count": 8,
   "metadata": {},
   "outputs": [
    {
     "name": "stdout",
     "output_type": "stream",
     "text": [
      "E x e c u t i o n\n",
      "\n",
      "\n",
      "----     60 VARIABLE x.L  \n",
      "\n",
      "            2           3           4           6\n",
      "\n",
      "1     200.000     200.000     100.000     100.000\n",
      "3                             100.000\n",
      "5     100.000                 200.000\n",
      "6                 100.000\n",
      "\n",
      "\n",
      "----     60 VARIABLE totalcost.L           =   133000.000  \n",
      "\n",
      "\n"
     ]
    }
   ],
   "source": [
    "%gams display x.l,totalcost.l\n",
    "%gams_lst -e"
   ]
  }
 ],
 "metadata": {
  "kernelspec": {
   "display_name": "Python 3",
   "language": "python",
   "name": "python3"
  },
  "language_info": {
   "codemirror_mode": {
    "name": "ipython",
    "version": 3
   },
   "file_extension": ".py",
   "mimetype": "text/x-python",
   "name": "python",
   "nbconvert_exporter": "python",
   "pygments_lexer": "ipython3",
   "version": "3.6.9"
  }
 },
 "nbformat": 4,
 "nbformat_minor": 2
}
