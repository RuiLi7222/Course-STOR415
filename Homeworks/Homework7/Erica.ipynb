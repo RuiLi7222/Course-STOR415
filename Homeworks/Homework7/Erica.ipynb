{
 "cells": [
  {
   "cell_type": "code",
   "execution_count": 1,
   "metadata": {},
   "outputs": [],
   "source": [
    "%load_ext gams_magic"
   ]
  },
  {
   "cell_type": "code",
   "execution_count": 2,
   "metadata": {},
   "outputs": [
    {
     "data": {
      "text/html": [
       "<div>\n",
       "<style scoped>\n",
       "    .dataframe tbody tr th:only-of-type {\n",
       "        vertical-align: middle;\n",
       "    }\n",
       "\n",
       "    .dataframe tbody tr th {\n",
       "        vertical-align: top;\n",
       "    }\n",
       "\n",
       "    .dataframe thead th {\n",
       "        text-align: right;\n",
       "    }\n",
       "</style>\n",
       "<table border=\"1\" class=\"dataframe\">\n",
       "  <thead>\n",
       "    <tr style=\"text-align: right;\">\n",
       "      <th></th>\n",
       "      <th>Solver Status</th>\n",
       "      <th>Model Status</th>\n",
       "      <th>Objective</th>\n",
       "      <th>#equ</th>\n",
       "      <th>#var</th>\n",
       "      <th>Model Type</th>\n",
       "      <th>Solver</th>\n",
       "      <th>Solver Time</th>\n",
       "    </tr>\n",
       "  </thead>\n",
       "  <tbody>\n",
       "    <tr>\n",
       "      <td>0</td>\n",
       "      <td>Normal (1)</td>\n",
       "      <td>Optimal Global (1)</td>\n",
       "      <td>108.0</td>\n",
       "      <td>5</td>\n",
       "      <td>3</td>\n",
       "      <td>LP</td>\n",
       "      <td>OSICPLEX</td>\n",
       "      <td>0</td>\n",
       "    </tr>\n",
       "  </tbody>\n",
       "</table>\n",
       "</div>"
      ],
      "text/plain": [
       "  Solver Status        Model Status  Objective #equ #var Model Type    Solver  \\\n",
       "0    Normal (1)  Optimal Global (1)      108.0    5    3         LP  OSICPLEX   \n",
       "\n",
       "  Solver Time  \n",
       "0           0  "
      ]
     },
     "execution_count": 2,
     "metadata": {},
     "output_type": "execute_result"
    }
   ],
   "source": [
    "%%gams\n",
    "\n",
    "variables x1 \"stock\", x2 \"loan\",\n",
    "profit \"total profit\";\n",
    "\n",
    "equations obj   \"max total profit\",\n",
    "invest_money   \"total invest money\",\n",
    "stock_requirement   \"stock investment requirement\",\n",
    "lbx1, lbx2;\n",
    "\n",
    "obj.. profit =e= 0.01*x1 + 0.15*x2;\n",
    "\n",
    "invest_money.. x1 + x2 =l= 1000;\n",
    "\n",
    "stock_requirement.. 0.7*x1 - 0.3*x2 =g= 0;\n",
    "\n",
    "lbx1.. x1 =g= 0;\n",
    "\n",
    "lbx2.. x2 =g= 400;\n",
    "\n",
    "model picframe /all/;\n",
    "\n",
    "\n",
    "\n",
    "solve picframe using lp maximizing profit;"
   ]
  },
  {
   "cell_type": "code",
   "execution_count": 3,
   "metadata": {},
   "outputs": [
    {
     "name": "stdout",
     "output_type": "stream",
     "text": [
      "   4   \n",
      "   5  variables x1 \"stock\", x2 \"loan\",\n",
      "   6  profit \"total profit\";\n",
      "   7   \n",
      "   8  equations obj   \"max total profit\",\n",
      "   9  invest_money   \"total invest money\",\n",
      "  10  stock_requirement   \"stock investment requirement\",\n",
      "  11  lbx1, lbx2;\n",
      "  12   \n",
      "  13  obj.. profit =e= 0.01*x1 + 0.15*x2;\n",
      "  14   \n",
      "  15  invest_money.. x1 + x2 =l= 1000;\n",
      "  16   \n",
      "  17  stock_requirement.. 0.7*x1 - 0.3*x2 =g= 0;\n",
      "  18   \n",
      "  19  lbx1.. x1 =g= 0;\n",
      "  20   \n",
      "  21  lbx2.. x2 =g= 400;\n",
      "  22   \n",
      "  23  model picframe /all/;\n",
      "  24   \n",
      "  25   \n",
      "  26   \n",
      "  27  solve picframe using lp maximizing profit;\n",
      "\n",
      "\n",
      "COMPILATION TIME     =        0.001 SECONDS      2 MB  28.2.0 r750fa45 LEX-LEG\n",
      "\f",
      "GAMS 28.2.0  r750fa45 Released Aug 19, 2019 LEX-LEG x86 64bit/Linux                                                                                                                                                                    10/21/19 14:20:01 Page 1\n",
      "G e n e r a l   A l g e b r a i c   M o d e l i n g   S y s t e m\n",
      "Model Statistics    SOLVE picframe Using LP From line 27\n",
      "\n",
      "\n",
      "MODEL STATISTICS\n",
      "\n",
      "BLOCKS OF EQUATIONS           5     SINGLE EQUATIONS            5\n",
      "BLOCKS OF VARIABLES           3     SINGLE VARIABLES            3\n",
      "NON ZERO ELEMENTS             9\n",
      "\n",
      "\n",
      "GENERATION TIME      =        0.000 SECONDS      3 MB  28.2.0 r750fa45 LEX-LEG\n",
      "\f",
      "GAMS 28.2.0  r750fa45 Released Aug 19, 2019 LEX-LEG x86 64bit/Linux                                                                                                                                                                    10/21/19 14:20:01 Page 2\n",
      "G e n e r a l   A l g e b r a i c   M o d e l i n g   S y s t e m\n",
      "Solution Report     SOLVE picframe Using LP From line 27\n",
      "\n",
      "\n",
      "               S O L V E      S U M M A R Y\n",
      "\n",
      "     MODEL   picframe            OBJECTIVE  profit\n",
      "     TYPE    LP                  DIRECTION  MAXIMIZE\n",
      "     SOLVER  OSICPLEX            FROM LINE  27\n",
      "\n",
      "**** SOLVER STATUS     1 Normal Completion         \n",
      "**** MODEL STATUS      1 Optimal                   \n",
      "**** OBJECTIVE VALUE              108.0000\n",
      "\n",
      " RESOURCE USAGE, LIMIT          0.000        60.000\n",
      " ITERATION COUNT, LIMIT         0    2000000000\n",
      "\n",
      "OSI CPLEX        28.2.0 r750fa45 Released Aug 19, 2019 LEG x86 64bit/Linux    \n",
      "\n",
      "OsiCplex (Osi library 0.108, CPLEX library 120900.00)\n",
      "CPXPARAM_Threads                                 1\n",
      "CPXPARAM_TimeLimit                               60\n",
      "CPXPARAM_MIP_Tolerances_AbsMIPGap                0\n",
      "CPXPARAM_MIP_Tolerances_MIPGap                   0\n",
      "Tried aggregator 1 time.\n",
      "LP Presolve eliminated 3 rows and 1 columns.\n",
      "Aggregator did 1 substitutions.\n",
      "All rows and columns eliminated.\n",
      "Presolve time = 0.00 sec. (0.00 ticks)\n",
      "\n",
      "Solved to optimality.\n",
      "\n",
      "\n",
      "**** REPORT SUMMARY :        0     NONOPT\n",
      "                             0 INFEASIBLE\n",
      "                             0  UNBOUNDED\n",
      "\n",
      "\n",
      "EXECUTION TIME       =        0.024 SECONDS      3 MB  28.2.0 r750fa45 LEX-LEG\n",
      "\n",
      "\n",
      "USER: Course License University of North Carolina    G190903/0001AN-GEN\n",
      "      Statistics and Operations Research                      DC7042-C1\n",
      "      License for teaching and research at degree granting institutions\n",
      "\n",
      "\n",
      "**** FILE SUMMARY\n",
      "\n",
      "Restart    /home/user056/Homework7/_gams_py_gcp0.g00\n",
      "Input      /home/user056/Homework7/gamsJupyter2.gms\n",
      "Output     /home/user056/Homework7/gamsJupyter2.lst\n",
      "Save       /home/user056/Homework7/_gams_py_gcp1.g0?\n",
      "\n",
      "**** WARNING - COMPILER OPTIONS ARE NON DEFAULT     EOLCOM # \n",
      "\n"
     ]
    }
   ],
   "source": [
    "%gams_lst"
   ]
  },
  {
   "cell_type": "code",
   "execution_count": 4,
   "metadata": {},
   "outputs": [
    {
     "name": "stdout",
     "output_type": "stream",
     "text": [
      "E x e c u t i o n\n",
      "\n",
      "\n",
      "----     30 VARIABLE x1.L                  =      300.000  stock\n",
      "            VARIABLE x2.L                  =      700.000  loan\n",
      "            VARIABLE profit.L              =      108.000  total profit\n",
      "\n",
      "\n"
     ]
    }
   ],
   "source": [
    "%gams display x1.l, x2.l, profit.l;\n",
    "%gams_lst -e"
   ]
  },
  {
   "cell_type": "code",
   "execution_count": 5,
   "metadata": {},
   "outputs": [],
   "source": [
    "%gams_cleanup"
   ]
  }
 ],
 "metadata": {
  "kernelspec": {
   "display_name": "Python 3",
   "language": "python",
   "name": "python3"
  },
  "language_info": {
   "codemirror_mode": {
    "name": "ipython",
    "version": 3
   },
   "file_extension": ".py",
   "mimetype": "text/x-python",
   "name": "python",
   "nbconvert_exporter": "python",
   "pygments_lexer": "ipython3",
   "version": "3.6.9"
  }
 },
 "nbformat": 4,
 "nbformat_minor": 2
}
