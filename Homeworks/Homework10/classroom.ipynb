{
 "cells": [
  {
   "cell_type": "code",
   "execution_count": null,
   "metadata": {},
   "outputs": [],
   "source": [
    "%load_ext gams_magic"
   ]
  },
  {
   "cell_type": "code",
   "execution_count": null,
   "metadata": {},
   "outputs": [],
   "source": [
    "%%gams\n",
    "\n",
    "Sets\n",
    "       i   courses   / 1*3 /,\n",
    "       j   rooms   / r1*r3 /;\n",
    "\n",
    "Table c(i,j)  value to set up room j to do exam i\n",
    "                r1       r2       r3\n",
    "       1        10        2       -8     \n",
    "       2        4         6        9     \n",
    "       3        5        -2       10;\n",
    "\n",
    "Variables\n",
    "       x(i,j)  decision on whether to assign exam i to room j\n",
    "       z       total set up value;\n",
    "\n",
    "Positive Variable x ;\n",
    "\n",
    "Equations\n",
    "    cost        define objective function\n",
    "    course(i)  exam i is assigned to exactly one room\n",
    "    room(j)      room j is assigned one exam;\n",
    "\n",
    "cost ..        z  =e=  sum((i,j), c(i,j)*x(i,j)) ;\n",
    "\n",
    "course(i) ..   sum(j, x(i,j))  =e=  1 ;\n",
    "\n",
    "room(j) ..   sum(i, x(i,j))  =e=  1 ;\n",
    "\n",
    "Model assignment /all/ ;\n",
    "\n",
    "#Add the following statements to inform GAMS to use the \n",
    "#network simplex method to solve your model.\n",
    "#The $ symbol has to be the first character in the line.\n",
    "option lp = cplex;\n",
    "$onecho > cplex.opt\n",
    "lpmethod 3\n",
    "$offecho\n",
    "assignment.optfile = 1;\n",
    "\n",
    "#GAMS option limrow specifies the number of equations to include in GAMS listing file\n",
    "option limrow = 3;\n",
    "\n",
    "#GAMS option solprint on/off: whether to not to include the solution report part in the listing file\n",
    "option solprint = on;\n",
    "\n",
    "solve assignment using lp maximizing z;\n"
   ]
  },
  {
   "cell_type": "code",
   "execution_count": null,
   "metadata": {},
   "outputs": [],
   "source": [
    "%gams_lst"
   ]
  },
  {
   "cell_type": "code",
   "execution_count": null,
   "metadata": {},
   "outputs": [],
   "source": [
    "%gams display x.l, z.l;\n",
    "%gams_lst -e"
   ]
  }
 ],
 "metadata": {
  "kernelspec": {
   "display_name": "Python 3",
   "language": "python",
   "name": "python3"
  },
  "language_info": {
   "codemirror_mode": {
    "name": "ipython",
    "version": 3
   },
   "file_extension": ".py",
   "mimetype": "text/x-python",
   "name": "python",
   "nbconvert_exporter": "python",
   "pygments_lexer": "ipython3",
   "version": "3.6.9"
  }
 },
 "nbformat": 4,
 "nbformat_minor": 2
}
