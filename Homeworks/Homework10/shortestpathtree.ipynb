{
 "cells": [
  {
   "cell_type": "code",
   "execution_count": 1,
   "metadata": {},
   "outputs": [],
   "source": [
    "%load_ext gams_magic"
   ]
  },
  {
   "cell_type": "code",
   "execution_count": 3,
   "metadata": {},
   "outputs": [
    {
     "data": {
      "text/html": [
       "<div>\n",
       "<style scoped>\n",
       "    .dataframe tbody tr th:only-of-type {\n",
       "        vertical-align: middle;\n",
       "    }\n",
       "\n",
       "    .dataframe tbody tr th {\n",
       "        vertical-align: top;\n",
       "    }\n",
       "\n",
       "    .dataframe thead th {\n",
       "        text-align: right;\n",
       "    }\n",
       "</style>\n",
       "<table border=\"1\" class=\"dataframe\">\n",
       "  <thead>\n",
       "    <tr style=\"text-align: right;\">\n",
       "      <th></th>\n",
       "      <th>Solver Status</th>\n",
       "      <th>Model Status</th>\n",
       "      <th>Objective</th>\n",
       "      <th>#equ</th>\n",
       "      <th>#var</th>\n",
       "      <th>Model Type</th>\n",
       "      <th>Solver</th>\n",
       "      <th>Solver Time</th>\n",
       "    </tr>\n",
       "  </thead>\n",
       "  <tbody>\n",
       "    <tr>\n",
       "      <td>0</td>\n",
       "      <td>Normal (1)</td>\n",
       "      <td>Optimal Global (1)</td>\n",
       "      <td>23.0</td>\n",
       "      <td>7</td>\n",
       "      <td>19</td>\n",
       "      <td>LP</td>\n",
       "      <td>OSICPLEX</td>\n",
       "      <td>0.001</td>\n",
       "    </tr>\n",
       "  </tbody>\n",
       "</table>\n",
       "</div>"
      ],
      "text/plain": [
       "  Solver Status        Model Status  Objective #equ #var Model Type    Solver  \\\n",
       "0    Normal (1)  Optimal Global (1)       23.0    7   19         LP  OSICPLEX   \n",
       "\n",
       "  Solver Time  \n",
       "0       0.001  "
      ]
     },
     "execution_count": 3,
     "metadata": {},
     "output_type": "execute_result"
    }
   ],
   "source": [
    "%%gams\n",
    "\n",
    "#definitions of sets\n",
    "set Nodes /s, u, x, z, v, y/;\n",
    "alias(j,Nodes);\n",
    "set Arcs(Nodes,Nodes) /s.u, s.x, s.z, u.x, u.z, u.v, x.z, x.v, x.y, z.v, z.y, z.s,\n",
    "v.s, v.u, v.y, y.s, y.u, y.x/;\n",
    "\n",
    "parameters c(Nodes, Nodes) /\n",
    "s.u 10, s.x 3, s.z 1, u.x 1, u.z 1, u.v 2, x.z 1, x.v 2, x.y 4, z.v 2, z.y 9, z.s 1,\n",
    "v.s 1, v.u 6, v.y 6, y.s 2, y.u 3, y.x 4/;\n",
    "\n",
    "parameters netsupply(Nodes) /s 5, u -1, x -1, z -1, v -1, y -1/;\n",
    "\n",
    "#definition of variables \n",
    "variables x(Nodes, Nodes), totalcost; \n",
    "\n",
    "positive variable x;\n",
    "\n",
    "#definition of equations\n",
    "equations balance(Nodes), obj;\n",
    "\n",
    "balance(Nodes).. sum(j$Arcs(Nodes,j), x(Nodes, j)) \n",
    "    - sum(j$Arcs(j,Nodes), x(j,Nodes)) =e= netsupply(Nodes); \n",
    "\n",
    "obj.. totalcost =e= sum(Arcs, c(Arcs)*x(Arcs));     \n",
    "\n",
    "model shortestpath/all/;\n",
    "solve shortestpath using lp minimizing totalcost; \n",
    "    \n",
    "    "
   ]
  },
  {
   "cell_type": "code",
   "execution_count": 4,
   "metadata": {},
   "outputs": [
    {
     "name": "stdout",
     "output_type": "stream",
     "text": [
      "E x e c u t i o n\n",
      "\n",
      "\n",
      "----     68 VARIABLE x.L  \n",
      "\n",
      "            u           x           z           v           y\n",
      "\n",
      "s                   2.000       3.000\n",
      "x                                                       1.000\n",
      "z                                           2.000\n",
      "v       1.000\n",
      "\n",
      "\n",
      "----     68 VARIABLE totalcost.L           =       23.000  \n",
      "\n",
      "\n"
     ]
    }
   ],
   "source": [
    "%gams display x.l, totalcost.l;\n",
    "%gams_lst -e"
   ]
  }
 ],
 "metadata": {
  "kernelspec": {
   "display_name": "Python 3",
   "language": "python",
   "name": "python3"
  },
  "language_info": {
   "codemirror_mode": {
    "name": "ipython",
    "version": 3
   },
   "file_extension": ".py",
   "mimetype": "text/x-python",
   "name": "python",
   "nbconvert_exporter": "python",
   "pygments_lexer": "ipython3",
   "version": "3.6.9"
  }
 },
 "nbformat": 4,
 "nbformat_minor": 2
}
